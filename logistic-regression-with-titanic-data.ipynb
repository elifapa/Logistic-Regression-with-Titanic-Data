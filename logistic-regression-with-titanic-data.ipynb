{
 "cells": [
  {
   "cell_type": "code",
   "execution_count": 1,
   "metadata": {
    "_cell_guid": "b1076dfc-b9ad-4769-8c92-a6c4dae69d19",
    "_uuid": "8f2839f25d086af736a60e9eeb907d3b93b6e0e5"
   },
   "outputs": [
    {
     "name": "stdout",
     "output_type": "stream",
     "text": [
      "/kaggle/input/titanic/train.csv\n",
      "/kaggle/input/titanic/gender_submission.csv\n",
      "/kaggle/input/titanic/test.csv\n"
     ]
    }
   ],
   "source": [
    "\n",
    "import numpy as np # linear algebra\n",
    "import pandas as pd # data processing, CSV file I/O (e.g. pd.read_csv)\n",
    "\n",
    "#visualization\n",
    "import matplotlib.pyplot as plt\n",
    "import seaborn as sns\n",
    "#plt.style.use('fivethirtyeight')\n",
    "%matplotlib inline\n",
    "\n",
    "#model building\n",
    "#import scipy.stats as ss\n",
    "from sklearn.preprocessing import OneHotEncoder, LabelEncoder, StandardScaler\n",
    "from sklearn.model_selection import train_test_split\n",
    "from sklearn.linear_model import LogisticRegression\n",
    "from sklearn.metrics import confusion_matrix \n",
    "\n",
    "# Input data files are available in the read-only \"../input/\" directory\n",
    "# For example, running this (by clicking run or pressing Shift+Enter) will list all files under the input directory\n",
    "\n",
    "import os\n",
    "for dirname, _, filenames in os.walk('/kaggle/input'):\n",
    "    for filename in filenames:\n",
    "        print(os.path.join(dirname, filename))\n",
    "\n",
    "# You can write up to 5GB to the current directory (/kaggle/working/) that gets preserved as output when you create a version using \"Save & Run All\" \n",
    "# You can also write temporary files to /kaggle/temp/, but they won't be saved outside of the current session"
   ]
  },
  {
   "cell_type": "code",
   "execution_count": 2,
   "metadata": {
    "_cell_guid": "79c7e3d0-c299-4dcb-8224-4455121ee9b0",
    "_uuid": "d629ff2d2480ee46fbb7e2d37f6b5fab8052498a"
   },
   "outputs": [
    {
     "data": {
      "text/html": [
       "<div>\n",
       "<style scoped>\n",
       "    .dataframe tbody tr th:only-of-type {\n",
       "        vertical-align: middle;\n",
       "    }\n",
       "\n",
       "    .dataframe tbody tr th {\n",
       "        vertical-align: top;\n",
       "    }\n",
       "\n",
       "    .dataframe thead th {\n",
       "        text-align: right;\n",
       "    }\n",
       "</style>\n",
       "<table border=\"1\" class=\"dataframe\">\n",
       "  <thead>\n",
       "    <tr style=\"text-align: right;\">\n",
       "      <th></th>\n",
       "      <th>PassengerId</th>\n",
       "      <th>Survived</th>\n",
       "      <th>Pclass</th>\n",
       "      <th>Name</th>\n",
       "      <th>Sex</th>\n",
       "      <th>Age</th>\n",
       "      <th>SibSp</th>\n",
       "      <th>Parch</th>\n",
       "      <th>Ticket</th>\n",
       "      <th>Fare</th>\n",
       "      <th>Cabin</th>\n",
       "      <th>Embarked</th>\n",
       "    </tr>\n",
       "  </thead>\n",
       "  <tbody>\n",
       "    <tr>\n",
       "      <th>0</th>\n",
       "      <td>1</td>\n",
       "      <td>0</td>\n",
       "      <td>3</td>\n",
       "      <td>Braund, Mr. Owen Harris</td>\n",
       "      <td>male</td>\n",
       "      <td>22.0</td>\n",
       "      <td>1</td>\n",
       "      <td>0</td>\n",
       "      <td>A/5 21171</td>\n",
       "      <td>7.2500</td>\n",
       "      <td>NaN</td>\n",
       "      <td>S</td>\n",
       "    </tr>\n",
       "    <tr>\n",
       "      <th>1</th>\n",
       "      <td>2</td>\n",
       "      <td>1</td>\n",
       "      <td>1</td>\n",
       "      <td>Cumings, Mrs. John Bradley (Florence Briggs Th...</td>\n",
       "      <td>female</td>\n",
       "      <td>38.0</td>\n",
       "      <td>1</td>\n",
       "      <td>0</td>\n",
       "      <td>PC 17599</td>\n",
       "      <td>71.2833</td>\n",
       "      <td>C85</td>\n",
       "      <td>C</td>\n",
       "    </tr>\n",
       "    <tr>\n",
       "      <th>2</th>\n",
       "      <td>3</td>\n",
       "      <td>1</td>\n",
       "      <td>3</td>\n",
       "      <td>Heikkinen, Miss. Laina</td>\n",
       "      <td>female</td>\n",
       "      <td>26.0</td>\n",
       "      <td>0</td>\n",
       "      <td>0</td>\n",
       "      <td>STON/O2. 3101282</td>\n",
       "      <td>7.9250</td>\n",
       "      <td>NaN</td>\n",
       "      <td>S</td>\n",
       "    </tr>\n",
       "    <tr>\n",
       "      <th>3</th>\n",
       "      <td>4</td>\n",
       "      <td>1</td>\n",
       "      <td>1</td>\n",
       "      <td>Futrelle, Mrs. Jacques Heath (Lily May Peel)</td>\n",
       "      <td>female</td>\n",
       "      <td>35.0</td>\n",
       "      <td>1</td>\n",
       "      <td>0</td>\n",
       "      <td>113803</td>\n",
       "      <td>53.1000</td>\n",
       "      <td>C123</td>\n",
       "      <td>S</td>\n",
       "    </tr>\n",
       "    <tr>\n",
       "      <th>4</th>\n",
       "      <td>5</td>\n",
       "      <td>0</td>\n",
       "      <td>3</td>\n",
       "      <td>Allen, Mr. William Henry</td>\n",
       "      <td>male</td>\n",
       "      <td>35.0</td>\n",
       "      <td>0</td>\n",
       "      <td>0</td>\n",
       "      <td>373450</td>\n",
       "      <td>8.0500</td>\n",
       "      <td>NaN</td>\n",
       "      <td>S</td>\n",
       "    </tr>\n",
       "  </tbody>\n",
       "</table>\n",
       "</div>"
      ],
      "text/plain": [
       "   PassengerId  Survived  Pclass  \\\n",
       "0            1         0       3   \n",
       "1            2         1       1   \n",
       "2            3         1       3   \n",
       "3            4         1       1   \n",
       "4            5         0       3   \n",
       "\n",
       "                                                Name     Sex   Age  SibSp  \\\n",
       "0                            Braund, Mr. Owen Harris    male  22.0      1   \n",
       "1  Cumings, Mrs. John Bradley (Florence Briggs Th...  female  38.0      1   \n",
       "2                             Heikkinen, Miss. Laina  female  26.0      0   \n",
       "3       Futrelle, Mrs. Jacques Heath (Lily May Peel)  female  35.0      1   \n",
       "4                           Allen, Mr. William Henry    male  35.0      0   \n",
       "\n",
       "   Parch            Ticket     Fare Cabin Embarked  \n",
       "0      0         A/5 21171   7.2500   NaN        S  \n",
       "1      0          PC 17599  71.2833   C85        C  \n",
       "2      0  STON/O2. 3101282   7.9250   NaN        S  \n",
       "3      0            113803  53.1000  C123        S  \n",
       "4      0            373450   8.0500   NaN        S  "
      ]
     },
     "execution_count": 2,
     "metadata": {},
     "output_type": "execute_result"
    }
   ],
   "source": [
    "test=pd.read_csv('/kaggle/input/titanic/test.csv')\n",
    "train=pd.read_csv('/kaggle/input/titanic/train.csv')\n",
    "combined = [train, test]\n",
    "\n",
    "alldata=pd.concat(combined, sort=True).reset_index(drop=True) #Join the dfs vertically.survived column of test is currently filled w NaNs\n",
    "train.head()"
   ]
  },
  {
   "cell_type": "code",
   "execution_count": 3,
   "metadata": {},
   "outputs": [
    {
     "data": {
      "text/html": [
       "<div>\n",
       "<style scoped>\n",
       "    .dataframe tbody tr th:only-of-type {\n",
       "        vertical-align: middle;\n",
       "    }\n",
       "\n",
       "    .dataframe tbody tr th {\n",
       "        vertical-align: top;\n",
       "    }\n",
       "\n",
       "    .dataframe thead th {\n",
       "        text-align: right;\n",
       "    }\n",
       "</style>\n",
       "<table border=\"1\" class=\"dataframe\">\n",
       "  <thead>\n",
       "    <tr style=\"text-align: right;\">\n",
       "      <th></th>\n",
       "      <th>PassengerId</th>\n",
       "      <th>Pclass</th>\n",
       "      <th>Name</th>\n",
       "      <th>Sex</th>\n",
       "      <th>Age</th>\n",
       "      <th>SibSp</th>\n",
       "      <th>Parch</th>\n",
       "      <th>Ticket</th>\n",
       "      <th>Fare</th>\n",
       "      <th>Cabin</th>\n",
       "      <th>Embarked</th>\n",
       "    </tr>\n",
       "  </thead>\n",
       "  <tbody>\n",
       "    <tr>\n",
       "      <th>0</th>\n",
       "      <td>892</td>\n",
       "      <td>3</td>\n",
       "      <td>Kelly, Mr. James</td>\n",
       "      <td>male</td>\n",
       "      <td>34.5</td>\n",
       "      <td>0</td>\n",
       "      <td>0</td>\n",
       "      <td>330911</td>\n",
       "      <td>7.8292</td>\n",
       "      <td>NaN</td>\n",
       "      <td>Q</td>\n",
       "    </tr>\n",
       "    <tr>\n",
       "      <th>1</th>\n",
       "      <td>893</td>\n",
       "      <td>3</td>\n",
       "      <td>Wilkes, Mrs. James (Ellen Needs)</td>\n",
       "      <td>female</td>\n",
       "      <td>47.0</td>\n",
       "      <td>1</td>\n",
       "      <td>0</td>\n",
       "      <td>363272</td>\n",
       "      <td>7.0000</td>\n",
       "      <td>NaN</td>\n",
       "      <td>S</td>\n",
       "    </tr>\n",
       "    <tr>\n",
       "      <th>2</th>\n",
       "      <td>894</td>\n",
       "      <td>2</td>\n",
       "      <td>Myles, Mr. Thomas Francis</td>\n",
       "      <td>male</td>\n",
       "      <td>62.0</td>\n",
       "      <td>0</td>\n",
       "      <td>0</td>\n",
       "      <td>240276</td>\n",
       "      <td>9.6875</td>\n",
       "      <td>NaN</td>\n",
       "      <td>Q</td>\n",
       "    </tr>\n",
       "    <tr>\n",
       "      <th>3</th>\n",
       "      <td>895</td>\n",
       "      <td>3</td>\n",
       "      <td>Wirz, Mr. Albert</td>\n",
       "      <td>male</td>\n",
       "      <td>27.0</td>\n",
       "      <td>0</td>\n",
       "      <td>0</td>\n",
       "      <td>315154</td>\n",
       "      <td>8.6625</td>\n",
       "      <td>NaN</td>\n",
       "      <td>S</td>\n",
       "    </tr>\n",
       "    <tr>\n",
       "      <th>4</th>\n",
       "      <td>896</td>\n",
       "      <td>3</td>\n",
       "      <td>Hirvonen, Mrs. Alexander (Helga E Lindqvist)</td>\n",
       "      <td>female</td>\n",
       "      <td>22.0</td>\n",
       "      <td>1</td>\n",
       "      <td>1</td>\n",
       "      <td>3101298</td>\n",
       "      <td>12.2875</td>\n",
       "      <td>NaN</td>\n",
       "      <td>S</td>\n",
       "    </tr>\n",
       "  </tbody>\n",
       "</table>\n",
       "</div>"
      ],
      "text/plain": [
       "   PassengerId  Pclass                                          Name     Sex  \\\n",
       "0          892       3                              Kelly, Mr. James    male   \n",
       "1          893       3              Wilkes, Mrs. James (Ellen Needs)  female   \n",
       "2          894       2                     Myles, Mr. Thomas Francis    male   \n",
       "3          895       3                              Wirz, Mr. Albert    male   \n",
       "4          896       3  Hirvonen, Mrs. Alexander (Helga E Lindqvist)  female   \n",
       "\n",
       "    Age  SibSp  Parch   Ticket     Fare Cabin Embarked  \n",
       "0  34.5      0      0   330911   7.8292   NaN        Q  \n",
       "1  47.0      1      0   363272   7.0000   NaN        S  \n",
       "2  62.0      0      0   240276   9.6875   NaN        Q  \n",
       "3  27.0      0      0   315154   8.6625   NaN        S  \n",
       "4  22.0      1      1  3101298  12.2875   NaN        S  "
      ]
     },
     "execution_count": 3,
     "metadata": {},
     "output_type": "execute_result"
    }
   ],
   "source": [
    "test.head()"
   ]
  },
  {
   "cell_type": "markdown",
   "execution_count": null,
   "metadata": {},
   "source": [
    "# **1.EXPLORATORY ANALYSIS**"
   ]
  },
  {
   "cell_type": "markdown",
   "execution_count": null,
   "metadata": {},
   "source": [
    "**Categorical features**   \n",
    "Categorical: Survived, Sex, and Embarked.   \n",
    "Ordinal: Pclass.  \n",
    "\n",
    "**Numerical Features**  \n",
    "Continous: Age, Fare.   \n",
    "Discrete: SibSp, Parch.  "
   ]
  },
  {
   "cell_type": "markdown",
   "execution_count": null,
   "metadata": {},
   "source": [
    "###### **Survived** is the target variable we are trying to predict (0 or 1):   \n",
    "1 = Survived  \n",
    "0 = Not Survived    \n",
    "  \n",
    "**Pclass** (Passenger Class) is the socio-economic status of the passenger which has 3 unique values (1, 2 or 3):  \n",
    "1 = Upper Class  \n",
    "2 = Middle Class  \n",
    "3 = Lower Class   \n",
    "  \n",
    "**Embarked** is port of embarkation which has 3 unique values (C, Q or S):  \n",
    "C = Cherbourg  \n",
    "Q = Queenstown  \n",
    "S = Southampton  \n",
    "  \n",
    "**SibSp** is the total number of the passengers' siblings and spouse (0 to 8)    \n",
    "  \n",
    "**Parch** is the total number of the passengers' parents and children (0 to 6)    "
   ]
  },
  {
   "cell_type": "code",
   "execution_count": 4,
   "metadata": {},
   "outputs": [
    {
     "name": "stdout",
     "output_type": "stream",
     "text": [
      "(891, 12)\n",
      "(418, 11)\n",
      "(1309, 12)\n"
     ]
    }
   ],
   "source": [
    "print(train.shape)\n",
    "print(test.shape) #does not have survived column. we are to predict that!\n",
    "print(alldata.shape)"
   ]
  },
  {
   "cell_type": "code",
   "execution_count": 5,
   "metadata": {},
   "outputs": [
    {
     "name": "stdout",
     "output_type": "stream",
     "text": [
      "<class 'pandas.core.frame.DataFrame'>\n",
      "RangeIndex: 891 entries, 0 to 890\n",
      "Data columns (total 12 columns):\n",
      " #   Column       Non-Null Count  Dtype  \n",
      "---  ------       --------------  -----  \n",
      " 0   PassengerId  891 non-null    int64  \n",
      " 1   Survived     891 non-null    int64  \n",
      " 2   Pclass       891 non-null    int64  \n",
      " 3   Name         891 non-null    object \n",
      " 4   Sex          891 non-null    object \n",
      " 5   Age          714 non-null    float64\n",
      " 6   SibSp        891 non-null    int64  \n",
      " 7   Parch        891 non-null    int64  \n",
      " 8   Ticket       891 non-null    object \n",
      " 9   Fare         891 non-null    float64\n",
      " 10  Cabin        204 non-null    object \n",
      " 11  Embarked     889 non-null    object \n",
      "dtypes: float64(2), int64(5), object(5)\n",
      "memory usage: 83.7+ KB\n"
     ]
    }
   ],
   "source": [
    "train.info()"
   ]
  },
  {
   "cell_type": "markdown",
   "execution_count": null,
   "metadata": {},
   "source": [
    "## **Overall Visualizations of Feature vs. Target** ##"
   ]
  },
  {
   "cell_type": "code",
   "execution_count": 6,
   "metadata": {},
   "outputs": [
    {
     "data": {
      "image/png": "[encoded data removed]",
      "text/plain": [
       "<Figure size 576x864 with 5 Axes>"
      ]
     },
     "metadata": {
      "needs_background": "light"
     },
     "output_type": "display_data"
    }
   ],
   "source": [
    "fig=plt.figure()\n",
    "ax1=plt.subplot(321)\n",
    "sns.countplot(x = 'Survived', hue = 'Sex', data = train, ax=ax1)\n",
    "\n",
    "ax2=plt.subplot(322)\n",
    "sns.countplot(x = 'Survived', hue = 'Pclass', data = train, ax=ax2)\n",
    "\n",
    "ax3=plt.subplot(323)\n",
    "sns.countplot(x = 'Survived', hue = 'SibSp', data = train, ax=ax3)\n",
    "ax3.legend(loc=1, title='Sibling/Spouse Count', fontsize='x-small')\n",
    "\n",
    "ax4=plt.subplot(324, sharey=ax3)\n",
    "sns.countplot(x = 'Survived', hue = 'Parch', data = train, ax=ax4)\n",
    "ax4.legend(loc=1, title='Parent/Children Count', fontsize='x-small')\n",
    "\n",
    "ax5=plt.subplot(325)\n",
    "sns.countplot(x = 'Survived', hue = 'Embarked', data = train, ax=ax5)\n",
    "ax5.legend(loc=1, title='Embarked')\n",
    "\n",
    "#ax6=plt.subplot(326)\n",
    "#sns.countplot(x = 'Survived', hue = 'Cabin', data = train, ax=ax6)\n",
    "#ax6.legend(loc=1, title='Cabin')\n",
    "\n",
    "fig.set_size_inches(8,12)\n",
    "fig.tight_layout()"
   ]
  },
  {
   "cell_type": "code",
   "execution_count": 7,
   "metadata": {},
   "outputs": [
    {
     "data": {
      "text/html": [
       "<style  type=\"text/css\" >\n",
       "    #T_faf3fc02_b723_11ea_8cee_0242ac130202row0_col0 {\n",
       "            background-color:  #ffff66;\n",
       "            color:  #000000;\n",
       "        }    #T_faf3fc02_b723_11ea_8cee_0242ac130202row0_col1 {\n",
       "            background-color:  #cee666;\n",
       "            color:  #000000;\n",
       "        }    #T_faf3fc02_b723_11ea_8cee_0242ac130202row0_col2 {\n",
       "            background-color:  #f4fa66;\n",
       "            color:  #000000;\n",
       "        }    #T_faf3fc02_b723_11ea_8cee_0242ac130202row1_col0 {\n",
       "            background-color:  #f6fa66;\n",
       "            color:  #000000;\n",
       "        }    #T_faf3fc02_b723_11ea_8cee_0242ac130202row1_col1 {\n",
       "            background-color:  #ffff66;\n",
       "            color:  #000000;\n",
       "        }    #T_faf3fc02_b723_11ea_8cee_0242ac130202row1_col2 {\n",
       "            background-color:  #ffff66;\n",
       "            color:  #000000;\n",
       "        }    #T_faf3fc02_b723_11ea_8cee_0242ac130202row2_col0 {\n",
       "            background-color:  #60b066;\n",
       "            color:  #000000;\n",
       "        }    #T_faf3fc02_b723_11ea_8cee_0242ac130202row2_col1 {\n",
       "            background-color:  #dfef66;\n",
       "            color:  #000000;\n",
       "        }    #T_faf3fc02_b723_11ea_8cee_0242ac130202row2_col2 {\n",
       "            background-color:  #90c866;\n",
       "            color:  #000000;\n",
       "        }    #T_faf3fc02_b723_11ea_8cee_0242ac130202row3_col0 {\n",
       "            background-color:  #008066;\n",
       "            color:  #f1f1f1;\n",
       "        }    #T_faf3fc02_b723_11ea_8cee_0242ac130202row3_col1 {\n",
       "            background-color:  #008066;\n",
       "            color:  #f1f1f1;\n",
       "        }    #T_faf3fc02_b723_11ea_8cee_0242ac130202row3_col2 {\n",
       "            background-color:  #008066;\n",
       "            color:  #f1f1f1;\n",
       "        }</style><table id=\"T_faf3fc02_b723_11ea_8cee_0242ac130202\" ><thead>    <tr>        <th class=\"index_name level0\" >Survived</th>        <th class=\"col_heading level0 col0\" >0</th>        <th class=\"col_heading level0 col1\" >1</th>        <th class=\"col_heading level0 col2\" >All</th>    </tr>    <tr>        <th class=\"index_name level0\" >Pclass</th>        <th class=\"blank\" ></th>        <th class=\"blank\" ></th>        <th class=\"blank\" ></th>    </tr></thead><tbody>\n",
       "                <tr>\n",
       "                        <th id=\"T_faf3fc02_b723_11ea_8cee_0242ac130202level0_row0\" class=\"row_heading level0 row0\" >1</th>\n",
       "                        <td id=\"T_faf3fc02_b723_11ea_8cee_0242ac130202row0_col0\" class=\"data row0 col0\" >80</td>\n",
       "                        <td id=\"T_faf3fc02_b723_11ea_8cee_0242ac130202row0_col1\" class=\"data row0 col1\" >136</td>\n",
       "                        <td id=\"T_faf3fc02_b723_11ea_8cee_0242ac130202row0_col2\" class=\"data row0 col2\" >216</td>\n",
       "            </tr>\n",
       "            <tr>\n",
       "                        <th id=\"T_faf3fc02_b723_11ea_8cee_0242ac130202level0_row1\" class=\"row_heading level0 row1\" >2</th>\n",
       "                        <td id=\"T_faf3fc02_b723_11ea_8cee_0242ac130202row1_col0\" class=\"data row1 col0\" >97</td>\n",
       "                        <td id=\"T_faf3fc02_b723_11ea_8cee_0242ac130202row1_col1\" class=\"data row1 col1\" >87</td>\n",
       "                        <td id=\"T_faf3fc02_b723_11ea_8cee_0242ac130202row1_col2\" class=\"data row1 col2\" >184</td>\n",
       "            </tr>\n",
       "            <tr>\n",
       "                        <th id=\"T_faf3fc02_b723_11ea_8cee_0242ac130202level0_row2\" class=\"row_heading level0 row2\" >3</th>\n",
       "                        <td id=\"T_faf3fc02_b723_11ea_8cee_0242ac130202row2_col0\" class=\"data row2 col0\" >372</td>\n",
       "                        <td id=\"T_faf3fc02_b723_11ea_8cee_0242ac130202row2_col1\" class=\"data row2 col1\" >119</td>\n",
       "                        <td id=\"T_faf3fc02_b723_11ea_8cee_0242ac130202row2_col2\" class=\"data row2 col2\" >491</td>\n",
       "            </tr>\n",
       "            <tr>\n",
       "                        <th id=\"T_faf3fc02_b723_11ea_8cee_0242ac130202level0_row3\" class=\"row_heading level0 row3\" >All</th>\n",
       "                        <td id=\"T_faf3fc02_b723_11ea_8cee_0242ac130202row3_col0\" class=\"data row3 col0\" >549</td>\n",
       "                        <td id=\"T_faf3fc02_b723_11ea_8cee_0242ac130202row3_col1\" class=\"data row3 col1\" >342</td>\n",
       "                        <td id=\"T_faf3fc02_b723_11ea_8cee_0242ac130202row3_col2\" class=\"data row3 col2\" >891</td>\n",
       "            </tr>\n",
       "    </tbody></table>"
      ],
      "text/plain": [
       "<pandas.io.formats.style.Styler at 0x7f1ffb25c550>"
      ]
     },
     "execution_count": 7,
     "metadata": {},
     "output_type": "execute_result"
    }
   ],
   "source": [
    "pd.crosstab(train.Pclass,train.Survived,margins=True).style.background_gradient(cmap='summer_r')"
   ]
  },
  {
   "cell_type": "markdown",
   "execution_count": null,
   "metadata": {},
   "source": [
    "From above table we can see clearly passengers with higher class are prioritized during the evacuation process."
   ]
  },
  {
   "cell_type": "code",
   "execution_count": 8,
   "metadata": {},
   "outputs": [
    {
     "data": {
      "text/html": [
       "<style  type=\"text/css\" >\n",
       "    #T_fb08aa58_b723_11ea_8cee_0242ac130202row0_col0 {\n",
       "            background-color:  #ffff66;\n",
       "            color:  #000000;\n",
       "        }    #T_fb08aa58_b723_11ea_8cee_0242ac130202row0_col1 {\n",
       "            background-color:  #ffff66;\n",
       "            color:  #000000;\n",
       "        }    #T_fb08aa58_b723_11ea_8cee_0242ac130202row0_col2 {\n",
       "            background-color:  #f1f866;\n",
       "            color:  #000000;\n",
       "        }    #T_fb08aa58_b723_11ea_8cee_0242ac130202row0_col3 {\n",
       "            background-color:  #ffff66;\n",
       "            color:  #000000;\n",
       "        }    #T_fb08aa58_b723_11ea_8cee_0242ac130202row1_col0 {\n",
       "            background-color:  #96cb66;\n",
       "            color:  #000000;\n",
       "        }    #T_fb08aa58_b723_11ea_8cee_0242ac130202row1_col1 {\n",
       "            background-color:  #a3d166;\n",
       "            color:  #000000;\n",
       "        }    #T_fb08aa58_b723_11ea_8cee_0242ac130202row1_col2 {\n",
       "            background-color:  #f1f866;\n",
       "            color:  #000000;\n",
       "        }    #T_fb08aa58_b723_11ea_8cee_0242ac130202row1_col3 {\n",
       "            background-color:  #cfe766;\n",
       "            color:  #000000;\n",
       "        }    #T_fb08aa58_b723_11ea_8cee_0242ac130202row2_col0 {\n",
       "            background-color:  #a7d366;\n",
       "            color:  #000000;\n",
       "        }    #T_fb08aa58_b723_11ea_8cee_0242ac130202row2_col1 {\n",
       "            background-color:  #85c266;\n",
       "            color:  #000000;\n",
       "        }    #T_fb08aa58_b723_11ea_8cee_0242ac130202row2_col2 {\n",
       "            background-color:  #6eb666;\n",
       "            color:  #000000;\n",
       "        }    #T_fb08aa58_b723_11ea_8cee_0242ac130202row2_col3 {\n",
       "            background-color:  #85c266;\n",
       "            color:  #000000;\n",
       "        }    #T_fb08aa58_b723_11ea_8cee_0242ac130202row3_col0 {\n",
       "            background-color:  #cde666;\n",
       "            color:  #000000;\n",
       "        }    #T_fb08aa58_b723_11ea_8cee_0242ac130202row3_col1 {\n",
       "            background-color:  #f0f866;\n",
       "            color:  #000000;\n",
       "        }    #T_fb08aa58_b723_11ea_8cee_0242ac130202row3_col2 {\n",
       "            background-color:  #ffff66;\n",
       "            color:  #000000;\n",
       "        }    #T_fb08aa58_b723_11ea_8cee_0242ac130202row3_col3 {\n",
       "            background-color:  #f7fb66;\n",
       "            color:  #000000;\n",
       "        }    #T_fb08aa58_b723_11ea_8cee_0242ac130202row4_col0 {\n",
       "            background-color:  #008066;\n",
       "            color:  #f1f1f1;\n",
       "        }    #T_fb08aa58_b723_11ea_8cee_0242ac130202row4_col1 {\n",
       "            background-color:  #008066;\n",
       "            color:  #f1f1f1;\n",
       "        }    #T_fb08aa58_b723_11ea_8cee_0242ac130202row4_col2 {\n",
       "            background-color:  #008066;\n",
       "            color:  #f1f1f1;\n",
       "        }    #T_fb08aa58_b723_11ea_8cee_0242ac130202row4_col3 {\n",
       "            background-color:  #008066;\n",
       "            color:  #f1f1f1;\n",
       "        }</style><table id=\"T_fb08aa58_b723_11ea_8cee_0242ac130202\" ><thead>    <tr>        <th class=\"blank\" ></th>        <th class=\"index_name level0\" >Pclass</th>        <th class=\"col_heading level0 col0\" >1</th>        <th class=\"col_heading level0 col1\" >2</th>        <th class=\"col_heading level0 col2\" >3</th>        <th class=\"col_heading level0 col3\" >All</th>    </tr>    <tr>        <th class=\"index_name level0\" >Sex</th>        <th class=\"index_name level1\" >Survived</th>        <th class=\"blank\" ></th>        <th class=\"blank\" ></th>        <th class=\"blank\" ></th>        <th class=\"blank\" ></th>    </tr></thead><tbody>\n",
       "                <tr>\n",
       "                        <th id=\"T_fb08aa58_b723_11ea_8cee_0242ac130202level0_row0\" class=\"row_heading level0 row0\" rowspan=2>female</th>\n",
       "                        <th id=\"T_fb08aa58_b723_11ea_8cee_0242ac130202level1_row0\" class=\"row_heading level1 row0\" >0</th>\n",
       "                        <td id=\"T_fb08aa58_b723_11ea_8cee_0242ac130202row0_col0\" class=\"data row0 col0\" >3</td>\n",
       "                        <td id=\"T_fb08aa58_b723_11ea_8cee_0242ac130202row0_col1\" class=\"data row0 col1\" >6</td>\n",
       "                        <td id=\"T_fb08aa58_b723_11ea_8cee_0242ac130202row0_col2\" class=\"data row0 col2\" >72</td>\n",
       "                        <td id=\"T_fb08aa58_b723_11ea_8cee_0242ac130202row0_col3\" class=\"data row0 col3\" >81</td>\n",
       "            </tr>\n",
       "            <tr>\n",
       "                                <th id=\"T_fb08aa58_b723_11ea_8cee_0242ac130202level1_row1\" class=\"row_heading level1 row1\" >1</th>\n",
       "                        <td id=\"T_fb08aa58_b723_11ea_8cee_0242ac130202row1_col0\" class=\"data row1 col0\" >91</td>\n",
       "                        <td id=\"T_fb08aa58_b723_11ea_8cee_0242ac130202row1_col1\" class=\"data row1 col1\" >70</td>\n",
       "                        <td id=\"T_fb08aa58_b723_11ea_8cee_0242ac130202row1_col2\" class=\"data row1 col2\" >72</td>\n",
       "                        <td id=\"T_fb08aa58_b723_11ea_8cee_0242ac130202row1_col3\" class=\"data row1 col3\" >233</td>\n",
       "            </tr>\n",
       "            <tr>\n",
       "                        <th id=\"T_fb08aa58_b723_11ea_8cee_0242ac130202level0_row2\" class=\"row_heading level0 row2\" rowspan=2>male</th>\n",
       "                        <th id=\"T_fb08aa58_b723_11ea_8cee_0242ac130202level1_row2\" class=\"row_heading level1 row2\" >0</th>\n",
       "                        <td id=\"T_fb08aa58_b723_11ea_8cee_0242ac130202row2_col0\" class=\"data row2 col0\" >77</td>\n",
       "                        <td id=\"T_fb08aa58_b723_11ea_8cee_0242ac130202row2_col1\" class=\"data row2 col1\" >91</td>\n",
       "                        <td id=\"T_fb08aa58_b723_11ea_8cee_0242ac130202row2_col2\" class=\"data row2 col2\" >300</td>\n",
       "                        <td id=\"T_fb08aa58_b723_11ea_8cee_0242ac130202row2_col3\" class=\"data row2 col3\" >468</td>\n",
       "            </tr>\n",
       "            <tr>\n",
       "                                <th id=\"T_fb08aa58_b723_11ea_8cee_0242ac130202level1_row3\" class=\"row_heading level1 row3\" >1</th>\n",
       "                        <td id=\"T_fb08aa58_b723_11ea_8cee_0242ac130202row3_col0\" class=\"data row3 col0\" >45</td>\n",
       "                        <td id=\"T_fb08aa58_b723_11ea_8cee_0242ac130202row3_col1\" class=\"data row3 col1\" >17</td>\n",
       "                        <td id=\"T_fb08aa58_b723_11ea_8cee_0242ac130202row3_col2\" class=\"data row3 col2\" >47</td>\n",
       "                        <td id=\"T_fb08aa58_b723_11ea_8cee_0242ac130202row3_col3\" class=\"data row3 col3\" >109</td>\n",
       "            </tr>\n",
       "            <tr>\n",
       "                        <th id=\"T_fb08aa58_b723_11ea_8cee_0242ac130202level0_row4\" class=\"row_heading level0 row4\" >All</th>\n",
       "                        <th id=\"T_fb08aa58_b723_11ea_8cee_0242ac130202level1_row4\" class=\"row_heading level1 row4\" ></th>\n",
       "                        <td id=\"T_fb08aa58_b723_11ea_8cee_0242ac130202row4_col0\" class=\"data row4 col0\" >216</td>\n",
       "                        <td id=\"T_fb08aa58_b723_11ea_8cee_0242ac130202row4_col1\" class=\"data row4 col1\" >184</td>\n",
       "                        <td id=\"T_fb08aa58_b723_11ea_8cee_0242ac130202row4_col2\" class=\"data row4 col2\" >491</td>\n",
       "                        <td id=\"T_fb08aa58_b723_11ea_8cee_0242ac130202row4_col3\" class=\"data row4 col3\" >891</td>\n",
       "            </tr>\n",
       "    </tbody></table>"
      ],
      "text/plain": [
       "<pandas.io.formats.style.Styler at 0x7f1ff9d12810>"
      ]
     },
     "execution_count": 8,
     "metadata": {},
     "output_type": "execute_result"
    }
   ],
   "source": [
    "pd.crosstab([train.Sex,train.Survived],train.Pclass,margins=True).style.background_gradient(cmap='summer_r')"
   ]
  },
  {
   "cell_type": "markdown",
   "execution_count": null,
   "metadata": {},
   "source": [
    "Women also have higher overall survival rate than men."
   ]
  },
  {
   "cell_type": "markdown",
   "execution_count": null,
   "metadata": {},
   "source": [
    "## **1.1. Missing Values** ##"
   ]
  },
  {
   "cell_type": "code",
   "execution_count": 9,
   "metadata": {},
   "outputs": [
    {
     "name": "stdout",
     "output_type": "stream",
     "text": [
      "Training Set\n",
      "\n",
      "PassengerId      0\n",
      "Survived         0\n",
      "Pclass           0\n",
      "Name             0\n",
      "Sex              0\n",
      "Age            177\n",
      "SibSp            0\n",
      "Parch            0\n",
      "Ticket           0\n",
      "Fare             0\n",
      "Cabin          687\n",
      "Embarked         2\n",
      "dtype: int64\n",
      "----------------------------------------\n",
      "Test Set\n",
      "\n",
      "PassengerId      0\n",
      "Pclass           0\n",
      "Name             0\n",
      "Sex              0\n",
      "Age             86\n",
      "SibSp            0\n",
      "Parch            0\n",
      "Ticket           0\n",
      "Fare             1\n",
      "Cabin          327\n",
      "Embarked         0\n",
      "dtype: int64\n"
     ]
    }
   ],
   "source": [
    "#checking missing values\n",
    "print('Training Set\\n')\n",
    "print(train.isnull().sum())\n",
    "print('-'*40)\n",
    "print('Test Set\\n')\n",
    "print(test.isnull().sum())"
   ]
  },
  {
   "cell_type": "markdown",
   "execution_count": null,
   "metadata": {},
   "source": [
    "Lets first focus on the missing values in Age feature."
   ]
  },
  {
   "cell_type": "code",
   "execution_count": 10,
   "metadata": {},
   "outputs": [
    {
     "data": {
      "text/html": [
       "<div>\n",
       "<style scoped>\n",
       "    .dataframe tbody tr th:only-of-type {\n",
       "        vertical-align: middle;\n",
       "    }\n",
       "\n",
       "    .dataframe tbody tr th {\n",
       "        vertical-align: top;\n",
       "    }\n",
       "\n",
       "    .dataframe thead th {\n",
       "        text-align: right;\n",
       "    }\n",
       "</style>\n",
       "<table border=\"1\" class=\"dataframe\">\n",
       "  <thead>\n",
       "    <tr style=\"text-align: right;\">\n",
       "      <th></th>\n",
       "      <th>Feature 1</th>\n",
       "      <th>Feature 2</th>\n",
       "      <th>corr</th>\n",
       "    </tr>\n",
       "  </thead>\n",
       "  <tbody>\n",
       "    <tr>\n",
       "      <th>0</th>\n",
       "      <td>Age</td>\n",
       "      <td>Age</td>\n",
       "      <td>1.000000</td>\n",
       "    </tr>\n",
       "    <tr>\n",
       "      <th>3</th>\n",
       "      <td>Age</td>\n",
       "      <td>Pclass</td>\n",
       "      <td>0.408106</td>\n",
       "    </tr>\n",
       "    <tr>\n",
       "      <th>4</th>\n",
       "      <td>Age</td>\n",
       "      <td>SibSp</td>\n",
       "      <td>0.243699</td>\n",
       "    </tr>\n",
       "    <tr>\n",
       "      <th>1</th>\n",
       "      <td>Age</td>\n",
       "      <td>Fare</td>\n",
       "      <td>0.178740</td>\n",
       "    </tr>\n",
       "    <tr>\n",
       "      <th>2</th>\n",
       "      <td>Age</td>\n",
       "      <td>Parch</td>\n",
       "      <td>0.150917</td>\n",
       "    </tr>\n",
       "    <tr>\n",
       "      <th>5</th>\n",
       "      <td>Age</td>\n",
       "      <td>Survived</td>\n",
       "      <td>0.077221</td>\n",
       "    </tr>\n",
       "    <tr>\n",
       "      <th>7</th>\n",
       "      <td>Fare</td>\n",
       "      <td>Fare</td>\n",
       "      <td>1.000000</td>\n",
       "    </tr>\n",
       "    <tr>\n",
       "      <th>9</th>\n",
       "      <td>Fare</td>\n",
       "      <td>Pclass</td>\n",
       "      <td>0.558629</td>\n",
       "    </tr>\n",
       "    <tr>\n",
       "      <th>11</th>\n",
       "      <td>Fare</td>\n",
       "      <td>Survived</td>\n",
       "      <td>0.257307</td>\n",
       "    </tr>\n",
       "    <tr>\n",
       "      <th>8</th>\n",
       "      <td>Fare</td>\n",
       "      <td>Parch</td>\n",
       "      <td>0.221539</td>\n",
       "    </tr>\n",
       "    <tr>\n",
       "      <th>6</th>\n",
       "      <td>Fare</td>\n",
       "      <td>Age</td>\n",
       "      <td>0.178740</td>\n",
       "    </tr>\n",
       "    <tr>\n",
       "      <th>10</th>\n",
       "      <td>Fare</td>\n",
       "      <td>SibSp</td>\n",
       "      <td>0.160238</td>\n",
       "    </tr>\n",
       "    <tr>\n",
       "      <th>14</th>\n",
       "      <td>Parch</td>\n",
       "      <td>Parch</td>\n",
       "      <td>1.000000</td>\n",
       "    </tr>\n",
       "    <tr>\n",
       "      <th>16</th>\n",
       "      <td>Parch</td>\n",
       "      <td>SibSp</td>\n",
       "      <td>0.373587</td>\n",
       "    </tr>\n",
       "    <tr>\n",
       "      <th>13</th>\n",
       "      <td>Parch</td>\n",
       "      <td>Fare</td>\n",
       "      <td>0.221539</td>\n",
       "    </tr>\n",
       "    <tr>\n",
       "      <th>12</th>\n",
       "      <td>Parch</td>\n",
       "      <td>Age</td>\n",
       "      <td>0.150917</td>\n",
       "    </tr>\n",
       "    <tr>\n",
       "      <th>17</th>\n",
       "      <td>Parch</td>\n",
       "      <td>Survived</td>\n",
       "      <td>0.081629</td>\n",
       "    </tr>\n",
       "    <tr>\n",
       "      <th>15</th>\n",
       "      <td>Parch</td>\n",
       "      <td>Pclass</td>\n",
       "      <td>0.018322</td>\n",
       "    </tr>\n",
       "    <tr>\n",
       "      <th>21</th>\n",
       "      <td>Pclass</td>\n",
       "      <td>Pclass</td>\n",
       "      <td>1.000000</td>\n",
       "    </tr>\n",
       "    <tr>\n",
       "      <th>19</th>\n",
       "      <td>Pclass</td>\n",
       "      <td>Fare</td>\n",
       "      <td>0.558629</td>\n",
       "    </tr>\n",
       "    <tr>\n",
       "      <th>18</th>\n",
       "      <td>Pclass</td>\n",
       "      <td>Age</td>\n",
       "      <td>0.408106</td>\n",
       "    </tr>\n",
       "    <tr>\n",
       "      <th>23</th>\n",
       "      <td>Pclass</td>\n",
       "      <td>Survived</td>\n",
       "      <td>0.338481</td>\n",
       "    </tr>\n",
       "    <tr>\n",
       "      <th>22</th>\n",
       "      <td>Pclass</td>\n",
       "      <td>SibSp</td>\n",
       "      <td>0.060832</td>\n",
       "    </tr>\n",
       "    <tr>\n",
       "      <th>20</th>\n",
       "      <td>Pclass</td>\n",
       "      <td>Parch</td>\n",
       "      <td>0.018322</td>\n",
       "    </tr>\n",
       "    <tr>\n",
       "      <th>28</th>\n",
       "      <td>SibSp</td>\n",
       "      <td>SibSp</td>\n",
       "      <td>1.000000</td>\n",
       "    </tr>\n",
       "    <tr>\n",
       "      <th>26</th>\n",
       "      <td>SibSp</td>\n",
       "      <td>Parch</td>\n",
       "      <td>0.373587</td>\n",
       "    </tr>\n",
       "    <tr>\n",
       "      <th>24</th>\n",
       "      <td>SibSp</td>\n",
       "      <td>Age</td>\n",
       "      <td>0.243699</td>\n",
       "    </tr>\n",
       "    <tr>\n",
       "      <th>25</th>\n",
       "      <td>SibSp</td>\n",
       "      <td>Fare</td>\n",
       "      <td>0.160238</td>\n",
       "    </tr>\n",
       "    <tr>\n",
       "      <th>27</th>\n",
       "      <td>SibSp</td>\n",
       "      <td>Pclass</td>\n",
       "      <td>0.060832</td>\n",
       "    </tr>\n",
       "    <tr>\n",
       "      <th>29</th>\n",
       "      <td>SibSp</td>\n",
       "      <td>Survived</td>\n",
       "      <td>0.035322</td>\n",
       "    </tr>\n",
       "    <tr>\n",
       "      <th>35</th>\n",
       "      <td>Survived</td>\n",
       "      <td>Survived</td>\n",
       "      <td>1.000000</td>\n",
       "    </tr>\n",
       "    <tr>\n",
       "      <th>33</th>\n",
       "      <td>Survived</td>\n",
       "      <td>Pclass</td>\n",
       "      <td>0.338481</td>\n",
       "    </tr>\n",
       "    <tr>\n",
       "      <th>31</th>\n",
       "      <td>Survived</td>\n",
       "      <td>Fare</td>\n",
       "      <td>0.257307</td>\n",
       "    </tr>\n",
       "    <tr>\n",
       "      <th>32</th>\n",
       "      <td>Survived</td>\n",
       "      <td>Parch</td>\n",
       "      <td>0.081629</td>\n",
       "    </tr>\n",
       "    <tr>\n",
       "      <th>30</th>\n",
       "      <td>Survived</td>\n",
       "      <td>Age</td>\n",
       "      <td>0.077221</td>\n",
       "    </tr>\n",
       "    <tr>\n",
       "      <th>34</th>\n",
       "      <td>Survived</td>\n",
       "      <td>SibSp</td>\n",
       "      <td>0.035322</td>\n",
       "    </tr>\n",
       "  </tbody>\n",
       "</table>\n",
       "</div>"
      ],
      "text/plain": [
       "   Feature 1 Feature 2      corr\n",
       "0        Age       Age  1.000000\n",
       "3        Age    Pclass  0.408106\n",
       "4        Age     SibSp  0.243699\n",
       "1        Age      Fare  0.178740\n",
       "2        Age     Parch  0.150917\n",
       "5        Age  Survived  0.077221\n",
       "7       Fare      Fare  1.000000\n",
       "9       Fare    Pclass  0.558629\n",
       "11      Fare  Survived  0.257307\n",
       "8       Fare     Parch  0.221539\n",
       "6       Fare       Age  0.178740\n",
       "10      Fare     SibSp  0.160238\n",
       "14     Parch     Parch  1.000000\n",
       "16     Parch     SibSp  0.373587\n",
       "13     Parch      Fare  0.221539\n",
       "12     Parch       Age  0.150917\n",
       "17     Parch  Survived  0.081629\n",
       "15     Parch    Pclass  0.018322\n",
       "21    Pclass    Pclass  1.000000\n",
       "19    Pclass      Fare  0.558629\n",
       "18    Pclass       Age  0.408106\n",
       "23    Pclass  Survived  0.338481\n",
       "22    Pclass     SibSp  0.060832\n",
       "20    Pclass     Parch  0.018322\n",
       "28     SibSp     SibSp  1.000000\n",
       "26     SibSp     Parch  0.373587\n",
       "24     SibSp       Age  0.243699\n",
       "25     SibSp      Fare  0.160238\n",
       "27     SibSp    Pclass  0.060832\n",
       "29     SibSp  Survived  0.035322\n",
       "35  Survived  Survived  1.000000\n",
       "33  Survived    Pclass  0.338481\n",
       "31  Survived      Fare  0.257307\n",
       "32  Survived     Parch  0.081629\n",
       "30  Survived       Age  0.077221\n",
       "34  Survived     SibSp  0.035322"
      ]
     },
     "execution_count": 10,
     "metadata": {},
     "output_type": "execute_result"
    }
   ],
   "source": [
    "#correlation matrix for all features.\n",
    "corr_matr=(alldata.drop('PassengerId', axis=1).corr().abs().unstack().reset_index().rename(columns={'level_0':'Feature 1','level_1':'Feature 2', 0:'corr'})\n",
    ".sort_values(by=['Feature 1','corr'], ascending=[True,False]))\n",
    "corr_matr"
   ]
  },
  {
   "cell_type": "markdown",
   "execution_count": null,
   "metadata": {},
   "source": [
    "One can observe Age is highly correlated with Pclass, also Pclass itself is highly correlated with Survived. Therefore, it would not be a bad interpretation if we fill the NaN values of Age, with the median values, according to their classes, sexes and also their port of embarkation."
   ]
  },
  {
   "cell_type": "code",
   "execution_count": 11,
   "metadata": {},
   "outputs": [
    {
     "data": {
      "text/plain": [
       "Sex     Embarked  Pclass\n",
       "female  C         1          6\n",
       "                  2          0\n",
       "                  3          9\n",
       "        Q         1          0\n",
       "                  2          1\n",
       "                  3         35\n",
       "        S         1          5\n",
       "                  2          2\n",
       "                  3         20\n",
       "male    C         1          7\n",
       "                  2          4\n",
       "                  3         32\n",
       "        Q         1          0\n",
       "                  2          1\n",
       "                  3         36\n",
       "        S         1         21\n",
       "                  2          8\n",
       "                  3         76\n",
       "dtype: int64"
      ]
     },
     "execution_count": 11,
     "metadata": {},
     "output_type": "execute_result"
    }
   ],
   "source": [
    "#number of null records to fill in age column\n",
    "alldata.groupby(['Sex','Embarked', 'Pclass']).size()-alldata.groupby(['Sex', 'Embarked', 'Pclass'])['Age'].count()"
   ]
  },
  {
   "cell_type": "code",
   "execution_count": 12,
   "metadata": {},
   "outputs": [
    {
     "data": {
      "text/plain": [
       "Age               2\n",
       "Cabin          1014\n",
       "Embarked          2\n",
       "Fare              1\n",
       "Name              0\n",
       "Parch             0\n",
       "PassengerId       0\n",
       "Pclass            0\n",
       "Sex               0\n",
       "SibSp             0\n",
       "Survived        418\n",
       "Ticket            0\n",
       "dtype: int64"
      ]
     },
     "execution_count": 12,
     "metadata": {},
     "output_type": "execute_result"
    }
   ],
   "source": [
    "alldata['Age'] = alldata.groupby(['Sex', 'Embarked', 'Pclass'])['Age'].apply( lambda x: x.fillna(x.median()) )\n",
    "alldata.isnull().sum()"
   ]
  },
  {
   "cell_type": "code",
   "execution_count": 13,
   "metadata": {},
   "outputs": [
    {
     "data": {
      "text/plain": [
       "Age               0\n",
       "Cabin          1014\n",
       "Embarked          2\n",
       "Fare              1\n",
       "Name              0\n",
       "Parch             0\n",
       "PassengerId       0\n",
       "Pclass            0\n",
       "Sex               0\n",
       "SibSp             0\n",
       "Survived        418\n",
       "Ticket            0\n",
       "dtype: int64"
      ]
     },
     "execution_count": 13,
     "metadata": {},
     "output_type": "execute_result"
    }
   ],
   "source": [
    "#2 missing age records are because of the missing embarked records. fill those with median values, excluding their embarked feature.\n",
    "alldata['Age'] = alldata.groupby(['Sex', 'Pclass'])['Age'].apply( lambda x: x.fillna(x.median()) )\n",
    "alldata.isnull().sum()"
   ]
  },
  {
   "cell_type": "markdown",
   "execution_count": null,
   "metadata": {},
   "source": [
    "Lets look into Embarked now.   \n"
   ]
  },
  {
   "cell_type": "code",
   "execution_count": 14,
   "metadata": {},
   "outputs": [
    {
     "data": {
      "text/html": [
       "<div>\n",
       "<style scoped>\n",
       "    .dataframe tbody tr th:only-of-type {\n",
       "        vertical-align: middle;\n",
       "    }\n",
       "\n",
       "    .dataframe tbody tr th {\n",
       "        vertical-align: top;\n",
       "    }\n",
       "\n",
       "    .dataframe thead th {\n",
       "        text-align: right;\n",
       "    }\n",
       "</style>\n",
       "<table border=\"1\" class=\"dataframe\">\n",
       "  <thead>\n",
       "    <tr style=\"text-align: right;\">\n",
       "      <th></th>\n",
       "      <th>Age</th>\n",
       "      <th>Cabin</th>\n",
       "      <th>Embarked</th>\n",
       "      <th>Fare</th>\n",
       "      <th>Name</th>\n",
       "      <th>Parch</th>\n",
       "      <th>PassengerId</th>\n",
       "      <th>Pclass</th>\n",
       "      <th>Sex</th>\n",
       "      <th>SibSp</th>\n",
       "      <th>Survived</th>\n",
       "      <th>Ticket</th>\n",
       "    </tr>\n",
       "  </thead>\n",
       "  <tbody>\n",
       "    <tr>\n",
       "      <th>61</th>\n",
       "      <td>35.5</td>\n",
       "      <td>B28</td>\n",
       "      <td>NaN</td>\n",
       "      <td>80.0</td>\n",
       "      <td>Icard, Miss. Amelie</td>\n",
       "      <td>0</td>\n",
       "      <td>62</td>\n",
       "      <td>1</td>\n",
       "      <td>female</td>\n",
       "      <td>0</td>\n",
       "      <td>1.0</td>\n",
       "      <td>113572</td>\n",
       "    </tr>\n",
       "    <tr>\n",
       "      <th>829</th>\n",
       "      <td>35.5</td>\n",
       "      <td>B28</td>\n",
       "      <td>NaN</td>\n",
       "      <td>80.0</td>\n",
       "      <td>Stone, Mrs. George Nelson (Martha Evelyn)</td>\n",
       "      <td>0</td>\n",
       "      <td>830</td>\n",
       "      <td>1</td>\n",
       "      <td>female</td>\n",
       "      <td>0</td>\n",
       "      <td>1.0</td>\n",
       "      <td>113572</td>\n",
       "    </tr>\n",
       "  </tbody>\n",
       "</table>\n",
       "</div>"
      ],
      "text/plain": [
       "      Age Cabin Embarked  Fare                                       Name  \\\n",
       "61   35.5   B28      NaN  80.0                        Icard, Miss. Amelie   \n",
       "829  35.5   B28      NaN  80.0  Stone, Mrs. George Nelson (Martha Evelyn)   \n",
       "\n",
       "     Parch  PassengerId  Pclass     Sex  SibSp  Survived  Ticket  \n",
       "61       0           62       1  female      0       1.0  113572  \n",
       "829      0          830       1  female      0       1.0  113572  "
      ]
     },
     "execution_count": 14,
     "metadata": {},
     "output_type": "execute_result"
    }
   ],
   "source": [
    "alldata[alldata.Embarked.isnull()]"
   ]
  },
  {
   "cell_type": "markdown",
   "execution_count": null,
   "metadata": {},
   "source": [
    "Thanks to *Güneş Evitan*'s efforts here: https://www.kaggle.com/gunesevitan/titanic-advanced-feature-engineering-tutorial#1.-Exploratory-Data-Analysis \n",
    "\n",
    "> When I googled Stone, Mrs. George Nelson (Martha Evelyn), I found that she embarked from S (Southampton) with her maid Amelie Icard, in this page Martha Evelyn Stone: Titanic Survivor.\n",
    "\n",
    "We know that two missing values are actually S. Lets fill those."
   ]
  },
  {
   "cell_type": "code",
   "execution_count": 15,
   "metadata": {},
   "outputs": [
    {
     "data": {
      "text/plain": [
       "Age               0\n",
       "Cabin          1014\n",
       "Embarked          0\n",
       "Fare              1\n",
       "Name              0\n",
       "Parch             0\n",
       "PassengerId       0\n",
       "Pclass            0\n",
       "Sex               0\n",
       "SibSp             0\n",
       "Survived        418\n",
       "Ticket            0\n",
       "dtype: int64"
      ]
     },
     "execution_count": 15,
     "metadata": {},
     "output_type": "execute_result"
    }
   ],
   "source": [
    "alldata.Embarked=alldata.Embarked.fillna('S')\n",
    "alldata.isnull().sum()"
   ]
  },
  {
   "cell_type": "markdown",
   "execution_count": null,
   "metadata": {},
   "source": [
    "Lets fill the single missing value of fare."
   ]
  },
  {
   "cell_type": "code",
   "execution_count": 16,
   "metadata": {},
   "outputs": [
    {
     "data": {
      "text/html": [
       "<div>\n",
       "<style scoped>\n",
       "    .dataframe tbody tr th:only-of-type {\n",
       "        vertical-align: middle;\n",
       "    }\n",
       "\n",
       "    .dataframe tbody tr th {\n",
       "        vertical-align: top;\n",
       "    }\n",
       "\n",
       "    .dataframe thead th {\n",
       "        text-align: right;\n",
       "    }\n",
       "</style>\n",
       "<table border=\"1\" class=\"dataframe\">\n",
       "  <thead>\n",
       "    <tr style=\"text-align: right;\">\n",
       "      <th></th>\n",
       "      <th>Age</th>\n",
       "      <th>Cabin</th>\n",
       "      <th>Embarked</th>\n",
       "      <th>Fare</th>\n",
       "      <th>Name</th>\n",
       "      <th>Parch</th>\n",
       "      <th>PassengerId</th>\n",
       "      <th>Pclass</th>\n",
       "      <th>Sex</th>\n",
       "      <th>SibSp</th>\n",
       "      <th>Survived</th>\n",
       "      <th>Ticket</th>\n",
       "    </tr>\n",
       "  </thead>\n",
       "  <tbody>\n",
       "    <tr>\n",
       "      <th>1043</th>\n",
       "      <td>60.5</td>\n",
       "      <td>NaN</td>\n",
       "      <td>S</td>\n",
       "      <td>NaN</td>\n",
       "      <td>Storey, Mr. Thomas</td>\n",
       "      <td>0</td>\n",
       "      <td>1044</td>\n",
       "      <td>3</td>\n",
       "      <td>male</td>\n",
       "      <td>0</td>\n",
       "      <td>NaN</td>\n",
       "      <td>3701</td>\n",
       "    </tr>\n",
       "  </tbody>\n",
       "</table>\n",
       "</div>"
      ],
      "text/plain": [
       "       Age Cabin Embarked  Fare                Name  Parch  PassengerId  \\\n",
       "1043  60.5   NaN        S   NaN  Storey, Mr. Thomas      0         1044   \n",
       "\n",
       "      Pclass   Sex  SibSp  Survived Ticket  \n",
       "1043       3  male      0       NaN   3701  "
      ]
     },
     "execution_count": 16,
     "metadata": {},
     "output_type": "execute_result"
    }
   ],
   "source": [
    "alldata[alldata.Fare.isnull()]"
   ]
  },
  {
   "cell_type": "markdown",
   "execution_count": null,
   "metadata": {},
   "source": [
    "When we check the correlation matrix we can see that Fare is related with Pclass and Parch. So lets fill that missing value with the median fare of corresponding class and parch value."
   ]
  },
  {
   "cell_type": "code",
   "execution_count": 17,
   "metadata": {},
   "outputs": [
    {
     "data": {
      "text/plain": [
       "Age               0\n",
       "Cabin          1014\n",
       "Embarked          0\n",
       "Fare              0\n",
       "Name              0\n",
       "Parch             0\n",
       "PassengerId       0\n",
       "Pclass            0\n",
       "Sex               0\n",
       "SibSp             0\n",
       "Survived        418\n",
       "Ticket            0\n",
       "dtype: int64"
      ]
     },
     "execution_count": 17,
     "metadata": {},
     "output_type": "execute_result"
    }
   ],
   "source": [
    "alldata.Fare=alldata.Fare.fillna(alldata.groupby(['Pclass', 'Parch']).median().Fare[3][0])\n",
    "alldata.isnull().sum()"
   ]
  },
  {
   "cell_type": "markdown",
   "execution_count": null,
   "metadata": {},
   "source": [
    "We only have left Cabin feature to fill. Now, it should not be as easy as filling the missing values with statistical summarizations, since larger portion of Cabin records are missing.\n",
    "One way to handle missing data is to add additional category for missing records. (This feature is from [Güneş Evitan's kernel](https://www.kaggle.com/gunesevitan/titanic-advanced-feature-engineering-tutorial#1.-Exploratory-Data-Analysis))"
   ]
  },
  {
   "cell_type": "code",
   "execution_count": 18,
   "metadata": {},
   "outputs": [],
   "source": [
    "#First letter indicates the deck.\n",
    "alldata['Deck']=alldata.Cabin.str.extract('([A-Za-z]+)', expand=False)\n",
    "alldata['Deck']=alldata['Deck'].fillna('M') #M:missing"
   ]
  },
  {
   "cell_type": "code",
   "execution_count": 19,
   "metadata": {},
   "outputs": [
    {
     "name": "stdout",
     "output_type": "stream",
     "text": [
      "             Count  Survived\n",
      "Deck Pclass                 \n",
      "A    1          22       7.0\n",
      "B    1          65      35.0\n",
      "C    1          94      35.0\n",
      "D    1          40      22.0\n",
      "     2           6       3.0\n",
      "E    1          34      18.0\n",
      "     2           4       3.0\n",
      "     3           3       3.0\n",
      "F    2          13       7.0\n",
      "     3           8       1.0\n",
      "G    3           5       2.0\n",
      "M    1          67      19.0\n",
      "     2         254      74.0\n",
      "     3         693     113.0\n",
      "T    1           1       0.0\n"
     ]
    },
    {
     "data": {
      "text/html": [
       "<div>\n",
       "<style scoped>\n",
       "    .dataframe tbody tr th:only-of-type {\n",
       "        vertical-align: middle;\n",
       "    }\n",
       "\n",
       "    .dataframe tbody tr th {\n",
       "        vertical-align: top;\n",
       "    }\n",
       "\n",
       "    .dataframe thead th {\n",
       "        text-align: right;\n",
       "    }\n",
       "</style>\n",
       "<table border=\"1\" class=\"dataframe\">\n",
       "  <thead>\n",
       "    <tr style=\"text-align: right;\">\n",
       "      <th></th>\n",
       "      <th>A</th>\n",
       "      <th>B</th>\n",
       "      <th>C</th>\n",
       "      <th>D</th>\n",
       "      <th>E</th>\n",
       "      <th>F</th>\n",
       "      <th>G</th>\n",
       "      <th>M</th>\n",
       "      <th>T</th>\n",
       "    </tr>\n",
       "  </thead>\n",
       "  <tbody>\n",
       "    <tr>\n",
       "      <th>1</th>\n",
       "      <td>22.0</td>\n",
       "      <td>65.0</td>\n",
       "      <td>94.0</td>\n",
       "      <td>40.0</td>\n",
       "      <td>34</td>\n",
       "      <td>0.0</td>\n",
       "      <td>0.0</td>\n",
       "      <td>67</td>\n",
       "      <td>1.0</td>\n",
       "    </tr>\n",
       "    <tr>\n",
       "      <th>2</th>\n",
       "      <td>0.0</td>\n",
       "      <td>0.0</td>\n",
       "      <td>0.0</td>\n",
       "      <td>6.0</td>\n",
       "      <td>4</td>\n",
       "      <td>13.0</td>\n",
       "      <td>0.0</td>\n",
       "      <td>254</td>\n",
       "      <td>0.0</td>\n",
       "    </tr>\n",
       "    <tr>\n",
       "      <th>3</th>\n",
       "      <td>0.0</td>\n",
       "      <td>0.0</td>\n",
       "      <td>0.0</td>\n",
       "      <td>0.0</td>\n",
       "      <td>3</td>\n",
       "      <td>8.0</td>\n",
       "      <td>5.0</td>\n",
       "      <td>693</td>\n",
       "      <td>0.0</td>\n",
       "    </tr>\n",
       "  </tbody>\n",
       "</table>\n",
       "</div>"
      ],
      "text/plain": [
       "      A     B     C     D   E     F    G    M    T\n",
       "1  22.0  65.0  94.0  40.0  34   0.0  0.0   67  1.0\n",
       "2   0.0   0.0   0.0   6.0   4  13.0  0.0  254  0.0\n",
       "3   0.0   0.0   0.0   0.0   3   8.0  5.0  693  0.0"
      ]
     },
     "execution_count": 19,
     "metadata": {},
     "output_type": "execute_result"
    }
   ],
   "source": [
    "df=alldata.groupby(['Deck', 'Pclass']).agg(Count=pd.NamedAgg(column='Name', aggfunc='count'), Survived=pd.NamedAgg('Survived', sum))\n",
    "df_decks=pd.DataFrame(df.groupby(level=0).apply(lambda df: df.xs(df.name).Count.to_dict()).to_dict())\n",
    "df_decks=df_decks.fillna(0)  \n",
    "print(df)\n",
    "df_decks"
   ]
  },
  {
   "cell_type": "code",
   "execution_count": 20,
   "metadata": {},
   "outputs": [
    {
     "data": {
      "text/html": [
       "<div>\n",
       "<style scoped>\n",
       "    .dataframe tbody tr th:only-of-type {\n",
       "        vertical-align: middle;\n",
       "    }\n",
       "\n",
       "    .dataframe tbody tr th {\n",
       "        vertical-align: top;\n",
       "    }\n",
       "\n",
       "    .dataframe thead th {\n",
       "        text-align: right;\n",
       "    }\n",
       "</style>\n",
       "<table border=\"1\" class=\"dataframe\">\n",
       "  <thead>\n",
       "    <tr style=\"text-align: right;\">\n",
       "      <th></th>\n",
       "      <th>A</th>\n",
       "      <th>B</th>\n",
       "      <th>C</th>\n",
       "      <th>D</th>\n",
       "      <th>E</th>\n",
       "      <th>F</th>\n",
       "      <th>G</th>\n",
       "      <th>M</th>\n",
       "      <th>T</th>\n",
       "    </tr>\n",
       "  </thead>\n",
       "  <tbody>\n",
       "    <tr>\n",
       "      <th>0</th>\n",
       "      <td>100.0</td>\n",
       "      <td>100.0</td>\n",
       "      <td>100.0</td>\n",
       "      <td>86.956522</td>\n",
       "      <td>82.926829</td>\n",
       "      <td>0.000000</td>\n",
       "      <td>0.0</td>\n",
       "      <td>6.607495</td>\n",
       "      <td>100.0</td>\n",
       "    </tr>\n",
       "    <tr>\n",
       "      <th>1</th>\n",
       "      <td>0.0</td>\n",
       "      <td>0.0</td>\n",
       "      <td>0.0</td>\n",
       "      <td>13.043478</td>\n",
       "      <td>9.756098</td>\n",
       "      <td>61.904762</td>\n",
       "      <td>0.0</td>\n",
       "      <td>25.049310</td>\n",
       "      <td>0.0</td>\n",
       "    </tr>\n",
       "    <tr>\n",
       "      <th>2</th>\n",
       "      <td>0.0</td>\n",
       "      <td>0.0</td>\n",
       "      <td>0.0</td>\n",
       "      <td>0.000000</td>\n",
       "      <td>7.317073</td>\n",
       "      <td>38.095238</td>\n",
       "      <td>100.0</td>\n",
       "      <td>68.343195</td>\n",
       "      <td>0.0</td>\n",
       "    </tr>\n",
       "  </tbody>\n",
       "</table>\n",
       "</div>"
      ],
      "text/plain": [
       "       A      B      C          D          E          F      G          M  \\\n",
       "0  100.0  100.0  100.0  86.956522  82.926829   0.000000    0.0   6.607495   \n",
       "1    0.0    0.0    0.0  13.043478   9.756098  61.904762    0.0  25.049310   \n",
       "2    0.0    0.0    0.0   0.000000   7.317073  38.095238  100.0  68.343195   \n",
       "\n",
       "       T  \n",
       "0  100.0  \n",
       "1    0.0  \n",
       "2    0.0  "
      ]
     },
     "execution_count": 20,
     "metadata": {},
     "output_type": "execute_result"
    }
   ],
   "source": [
    "# Creating a dictionary for percentage of pessengers for each pclass and deck\n",
    "deck_percentages={}\n",
    "for col in df_decks.columns:\n",
    "    deck_percentages[col] = [(count / df_decks[col].sum()) * 100 for count in df_decks[col]]\n",
    "deck_percentages=pd.DataFrame(deck_percentages)     \n",
    "deck_percentages"
   ]
  },
  {
   "cell_type": "code",
   "execution_count": 21,
   "metadata": {},
   "outputs": [
    {
     "data": {
      "text/plain": [
       "Text(0.5, 1.0, 'Passenger class percentage per deck')"
      ]
     },
     "execution_count": 21,
     "metadata": {},
     "output_type": "execute_result"
    },
    {
     "data": {
      "image/png": "[encoded data removed]",
      "text/plain": [
       "<Figure size 576x432 with 1 Axes>"
      ]
     },
     "metadata": {
      "needs_background": "light"
     },
     "output_type": "display_data"
    }
   ],
   "source": [
    "deck_names = deck_percentages.columns.tolist()\n",
    "bar_count = np.arange(len(deck_names))  \n",
    "\n",
    "plt.figure(figsize=(8,6))\n",
    "plt.bar(bar_count, deck_percentages.iloc[0], width=0.85, label='Class 1')\n",
    "plt.bar(bar_count, deck_percentages.iloc[1], bottom=deck_percentages.iloc[0], width=0.85, label='Class 2')\n",
    "plt.bar(bar_count, deck_percentages.iloc[2], bottom=deck_percentages.iloc[0]+deck_percentages.iloc[1],width=0.85, label='Class 3')\n",
    "plt.xticks(bar_count, deck_names)  \n",
    "plt.legend()\n",
    "plt.title('Passenger class percentage per deck')"
   ]
  },
  {
   "cell_type": "markdown",
   "execution_count": null,
   "metadata": {},
   "source": [
    "From above table we can observe that:  \n",
    "* decks A,B,C and T(1 passenger) only used by pclass=1  \n",
    "* D,E,F,G used by 2 or more pclass categories.  "
   ]
  },
  {
   "cell_type": "code",
   "execution_count": 22,
   "metadata": {},
   "outputs": [
    {
     "data": {
      "text/plain": [
       "M      1014\n",
       "ABC     182\n",
       "DE       87\n",
       "FG       26\n",
       "Name: Deck, dtype: int64"
      ]
     },
     "execution_count": 22,
     "metadata": {},
     "output_type": "execute_result"
    }
   ],
   "source": [
    "alldata.loc[alldata.Deck=='T','Deck']='A'\n",
    "alldata['Deck'] = alldata['Deck'].replace(['A', 'B', 'C'], 'ABC')\n",
    "alldata['Deck'] = alldata['Deck'].replace(['D', 'E'], 'DE')\n",
    "alldata['Deck'] = alldata['Deck'].replace(['F', 'G'], 'FG')\n",
    "\n",
    "alldata['Deck'].value_counts()"
   ]
  },
  {
   "cell_type": "code",
   "execution_count": 23,
   "metadata": {},
   "outputs": [],
   "source": [
    "#we will use deck from now on\n",
    "alldata=alldata.drop('Cabin', axis=1)"
   ]
  },
  {
   "cell_type": "code",
   "execution_count": 24,
   "metadata": {},
   "outputs": [],
   "source": [
    "#update train and test dfs\n",
    "train=alldata.loc[:890]\n",
    "test=alldata.loc[891:].drop('Survived', axis=1)\n",
    "combined = [train, test]"
   ]
  },
  {
   "cell_type": "markdown",
   "execution_count": null,
   "metadata": {},
   "source": [
    "## **1.2. Correlations** ##"
   ]
  },
  {
   "cell_type": "code",
   "execution_count": 25,
   "metadata": {},
   "outputs": [],
   "source": [
    "train_corr=(train.drop('PassengerId', axis=1).corr().abs().unstack().reset_index()\n",
    "            .rename(columns={'level_0':'Feature 1','level_1':'Feature 2', 0:'corr'})\n",
    "            .sort_values(by=['Feature 1','corr'], ascending=[True,False]))\n",
    "train_corr=train_corr.query('corr!=1').drop([6,12,13,18,19,24,25,26,31,33])\n",
    "train_corr=train_corr.query('corr>0.1').sort_values(by='corr', ascending=False)"
   ]
  },
  {
   "cell_type": "code",
   "execution_count": 26,
   "metadata": {},
   "outputs": [],
   "source": [
    "test_corr=(test.drop('PassengerId', axis=1).corr().abs().unstack().reset_index()\n",
    "            .rename(columns={'level_0':'Feature 1','level_1':'Feature 2', 0:'corr'})\n",
    "            .sort_values(by=['Feature 1','corr'], ascending=[True,False]))\n",
    "test_corr=test_corr.query('corr!=1').reset_index(drop=True).drop([5,10,13,18, 9,12,17, 14,16])\n",
    "test_corr=test_corr.query('corr>=0.1').sort_values(by='corr', ascending=False)"
   ]
  },
  {
   "cell_type": "code",
   "execution_count": 27,
   "metadata": {},
   "outputs": [
    {
     "data": {
      "text/html": [
       "<div>\n",
       "<style scoped>\n",
       "    .dataframe tbody tr th:only-of-type {\n",
       "        vertical-align: middle;\n",
       "    }\n",
       "\n",
       "    .dataframe tbody tr th {\n",
       "        vertical-align: top;\n",
       "    }\n",
       "\n",
       "    .dataframe thead th {\n",
       "        text-align: right;\n",
       "    }\n",
       "</style>\n",
       "<table border=\"1\" class=\"dataframe\">\n",
       "  <thead>\n",
       "    <tr style=\"text-align: right;\">\n",
       "      <th></th>\n",
       "      <th>Feature 1</th>\n",
       "      <th>Feature 2</th>\n",
       "      <th>corr_train</th>\n",
       "      <th>corr_test</th>\n",
       "    </tr>\n",
       "  </thead>\n",
       "  <tbody>\n",
       "    <tr>\n",
       "      <th>0</th>\n",
       "      <td>Fare</td>\n",
       "      <td>Pclass</td>\n",
       "      <td>0.549500</td>\n",
       "      <td>0.577488</td>\n",
       "    </tr>\n",
       "    <tr>\n",
       "      <th>1</th>\n",
       "      <td>Age</td>\n",
       "      <td>Pclass</td>\n",
       "      <td>0.416355</td>\n",
       "      <td>0.526966</td>\n",
       "    </tr>\n",
       "    <tr>\n",
       "      <th>2</th>\n",
       "      <td>Parch</td>\n",
       "      <td>SibSp</td>\n",
       "      <td>0.414838</td>\n",
       "      <td>0.306895</td>\n",
       "    </tr>\n",
       "    <tr>\n",
       "      <th>3</th>\n",
       "      <td>Pclass</td>\n",
       "      <td>Survived</td>\n",
       "      <td>0.338481</td>\n",
       "      <td>NaN</td>\n",
       "    </tr>\n",
       "    <tr>\n",
       "      <th>4</th>\n",
       "      <td>Fare</td>\n",
       "      <td>Survived</td>\n",
       "      <td>0.257307</td>\n",
       "      <td>NaN</td>\n",
       "    </tr>\n",
       "    <tr>\n",
       "      <th>5</th>\n",
       "      <td>Age</td>\n",
       "      <td>SibSp</td>\n",
       "      <td>0.247391</td>\n",
       "      <td>NaN</td>\n",
       "    </tr>\n",
       "    <tr>\n",
       "      <th>6</th>\n",
       "      <td>Fare</td>\n",
       "      <td>Parch</td>\n",
       "      <td>0.216225</td>\n",
       "      <td>0.230409</td>\n",
       "    </tr>\n",
       "    <tr>\n",
       "      <th>7</th>\n",
       "      <td>Age</td>\n",
       "      <td>Parch</td>\n",
       "      <td>0.176516</td>\n",
       "      <td>NaN</td>\n",
       "    </tr>\n",
       "    <tr>\n",
       "      <th>8</th>\n",
       "      <td>Fare</td>\n",
       "      <td>SibSp</td>\n",
       "      <td>0.159651</td>\n",
       "      <td>0.172031</td>\n",
       "    </tr>\n",
       "    <tr>\n",
       "      <th>9</th>\n",
       "      <td>Age</td>\n",
       "      <td>Fare</td>\n",
       "      <td>0.123582</td>\n",
       "      <td>0.341935</td>\n",
       "    </tr>\n",
       "  </tbody>\n",
       "</table>\n",
       "</div>"
      ],
      "text/plain": [
       "  Feature 1 Feature 2  corr_train  corr_test\n",
       "0      Fare    Pclass    0.549500   0.577488\n",
       "1       Age    Pclass    0.416355   0.526966\n",
       "2     Parch     SibSp    0.414838   0.306895\n",
       "3    Pclass  Survived    0.338481        NaN\n",
       "4      Fare  Survived    0.257307        NaN\n",
       "5       Age     SibSp    0.247391        NaN\n",
       "6      Fare     Parch    0.216225   0.230409\n",
       "7       Age     Parch    0.176516        NaN\n",
       "8      Fare     SibSp    0.159651   0.172031\n",
       "9       Age      Fare    0.123582   0.341935"
      ]
     },
     "execution_count": 27,
     "metadata": {},
     "output_type": "execute_result"
    }
   ],
   "source": [
    "#NaNs correlations actually correspond to correlations that are smaller than 0.1\n",
    "corr=pd.merge(train_corr, test_corr, on=['Feature 1', 'Feature 2'], how='outer', suffixes=['_train', '_test'])\n",
    "corr"
   ]
  },
  {
   "cell_type": "markdown",
   "execution_count": null,
   "metadata": {},
   "source": [
    "* Heatmap"
   ]
  },
  {
   "cell_type": "code",
   "execution_count": 28,
   "metadata": {},
   "outputs": [
    {
     "data": {
      "text/plain": [
       "Text(0.5, 1.0, 'Correlation matrix for test set')"
      ]
     },
     "execution_count": 28,
     "metadata": {},
     "output_type": "execute_result"
    },
    {
     "data": {
      "image/png": "[encoded data removed]",
      "text/plain": [
       "<Figure size 504x1008 with 4 Axes>"
      ]
     },
     "metadata": {
      "needs_background": "light"
     },
     "output_type": "display_data"
    }
   ],
   "source": [
    "fig, axs=plt.subplots(2,1, figsize=(7,14))\n",
    "sns.heatmap(train.drop('PassengerId', axis=1).corr(), ax=axs[0], annot=True, cbar_kws={'label': 'Correlation coeff.'}, cmap=\"PuOr\")\n",
    "sns.heatmap(test.drop('PassengerId', axis=1).corr(),  ax=axs[1], annot=True, cbar_kws={'label': 'Correlation coeff.'}, cmap=\"PuOr\")\n",
    "axs[0].set_title('Correlation matrix for train set')\n",
    "axs[1].set_title('Correlation matrix for test set')\n",
    "\n"
   ]
  },
  {
   "cell_type": "markdown",
   "execution_count": null,
   "metadata": {},
   "source": [
    "# **2. FEATURE ENGINEERING**"
   ]
  },
  {
   "cell_type": "markdown",
   "execution_count": null,
   "metadata": {},
   "source": [
    "## **2.1. Title Feature (extracted from Name)**"
   ]
  },
  {
   "cell_type": "code",
   "execution_count": 29,
   "metadata": {},
   "outputs": [],
   "source": [
    "alldata['Title']=alldata.Name.str.split(',', expand=True)[1].str.split('.', expand=True)[0].str.replace(\" \",\"\")"
   ]
  },
  {
   "cell_type": "code",
   "execution_count": 30,
   "metadata": {},
   "outputs": [
    {
     "data": {
      "text/plain": [
       "Mr             757\n",
       "Miss           260\n",
       "Mrs            197\n",
       "Master          61\n",
       "Rev              8\n",
       "Dr               8\n",
       "Col              4\n",
       "Major            2\n",
       "Ms               2\n",
       "Mlle             2\n",
       "Jonkheer         1\n",
       "Capt             1\n",
       "Sir              1\n",
       "Dona             1\n",
       "Don              1\n",
       "theCountess      1\n",
       "Lady             1\n",
       "Mme              1\n",
       "Name: Title, dtype: int64"
      ]
     },
     "execution_count": 30,
     "metadata": {},
     "output_type": "execute_result"
    }
   ],
   "source": [
    "alldata.Title.value_counts() #title value counts"
   ]
  },
  {
   "cell_type": "markdown",
   "execution_count": null,
   "metadata": {},
   "source": [
    "We are going to group the titles that occured rarely under Rare group."
   ]
  },
  {
   "cell_type": "code",
   "execution_count": 31,
   "metadata": {},
   "outputs": [
    {
     "data": {
      "text/plain": [
       "Mr        757\n",
       "Miss      264\n",
       "Mrs       198\n",
       "Master     61\n",
       "Rare       29\n",
       "Name: Title, dtype: int64"
      ]
     },
     "execution_count": 31,
     "metadata": {},
     "output_type": "execute_result"
    }
   ],
   "source": [
    "alldata['Title'] = alldata['Title'].replace(['Lady', 'theCountess','Capt', 'Col','Don', 'Dr', 'Major', 'Rev', 'Sir', 'Jonkheer', 'Dona'], 'Rare')\n",
    "alldata['Title'] = alldata['Title'].replace('Mlle', 'Miss')\n",
    "alldata['Title'] = alldata['Title'].replace('Ms', 'Miss')\n",
    "alldata['Title'] = alldata['Title'].replace('Mme', 'Mrs')\n",
    "\n",
    "alldata['Title'].value_counts()"
   ]
  },
  {
   "cell_type": "code",
   "execution_count": 32,
   "metadata": {},
   "outputs": [
    {
     "name": "stdout",
     "output_type": "stream",
     "text": [
      "        Survived\n",
      "Title           \n",
      "Master  0.575000\n",
      "Miss    0.702703\n",
      "Mr      0.156673\n",
      "Mrs     0.793651\n",
      "Rare    0.347826\n"
     ]
    }
   ],
   "source": [
    "print (alldata[['Title', 'Survived']].groupby(['Title']).mean())"
   ]
  },
  {
   "cell_type": "markdown",
   "execution_count": null,
   "metadata": {},
   "source": [
    "## 2.2. FamilySize (from SibSp and Parch) "
   ]
  },
  {
   "cell_type": "code",
   "execution_count": 33,
   "metadata": {},
   "outputs": [],
   "source": [
    "alldata['FamilySize']=alldata['SibSp']+alldata['Parch']+1"
   ]
  },
  {
   "cell_type": "code",
   "execution_count": 34,
   "metadata": {},
   "outputs": [
    {
     "data": {
      "text/html": [
       "<div>\n",
       "<style scoped>\n",
       "    .dataframe tbody tr th:only-of-type {\n",
       "        vertical-align: middle;\n",
       "    }\n",
       "\n",
       "    .dataframe tbody tr th {\n",
       "        vertical-align: top;\n",
       "    }\n",
       "\n",
       "    .dataframe thead th {\n",
       "        text-align: right;\n",
       "    }\n",
       "</style>\n",
       "<table border=\"1\" class=\"dataframe\">\n",
       "  <thead>\n",
       "    <tr style=\"text-align: right;\">\n",
       "      <th></th>\n",
       "      <th>Age</th>\n",
       "      <th>Embarked</th>\n",
       "      <th>Fare</th>\n",
       "      <th>Name</th>\n",
       "      <th>Parch</th>\n",
       "      <th>PassengerId</th>\n",
       "      <th>Pclass</th>\n",
       "      <th>Sex</th>\n",
       "      <th>SibSp</th>\n",
       "      <th>Survived</th>\n",
       "      <th>Ticket</th>\n",
       "      <th>Deck</th>\n",
       "      <th>Title</th>\n",
       "      <th>FamilySize</th>\n",
       "    </tr>\n",
       "  </thead>\n",
       "  <tbody>\n",
       "    <tr>\n",
       "      <th>0</th>\n",
       "      <td>22.0</td>\n",
       "      <td>S</td>\n",
       "      <td>7.2500</td>\n",
       "      <td>Braund, Mr. Owen Harris</td>\n",
       "      <td>0</td>\n",
       "      <td>1</td>\n",
       "      <td>3</td>\n",
       "      <td>male</td>\n",
       "      <td>1</td>\n",
       "      <td>0.0</td>\n",
       "      <td>A/5 21171</td>\n",
       "      <td>M</td>\n",
       "      <td>Mr</td>\n",
       "      <td>2</td>\n",
       "    </tr>\n",
       "    <tr>\n",
       "      <th>1</th>\n",
       "      <td>38.0</td>\n",
       "      <td>C</td>\n",
       "      <td>71.2833</td>\n",
       "      <td>Cumings, Mrs. John Bradley (Florence Briggs Th...</td>\n",
       "      <td>0</td>\n",
       "      <td>2</td>\n",
       "      <td>1</td>\n",
       "      <td>female</td>\n",
       "      <td>1</td>\n",
       "      <td>1.0</td>\n",
       "      <td>PC 17599</td>\n",
       "      <td>ABC</td>\n",
       "      <td>Mrs</td>\n",
       "      <td>2</td>\n",
       "    </tr>\n",
       "    <tr>\n",
       "      <th>2</th>\n",
       "      <td>26.0</td>\n",
       "      <td>S</td>\n",
       "      <td>7.9250</td>\n",
       "      <td>Heikkinen, Miss. Laina</td>\n",
       "      <td>0</td>\n",
       "      <td>3</td>\n",
       "      <td>3</td>\n",
       "      <td>female</td>\n",
       "      <td>0</td>\n",
       "      <td>1.0</td>\n",
       "      <td>STON/O2. 3101282</td>\n",
       "      <td>M</td>\n",
       "      <td>Miss</td>\n",
       "      <td>1</td>\n",
       "    </tr>\n",
       "    <tr>\n",
       "      <th>3</th>\n",
       "      <td>35.0</td>\n",
       "      <td>S</td>\n",
       "      <td>53.1000</td>\n",
       "      <td>Futrelle, Mrs. Jacques Heath (Lily May Peel)</td>\n",
       "      <td>0</td>\n",
       "      <td>4</td>\n",
       "      <td>1</td>\n",
       "      <td>female</td>\n",
       "      <td>1</td>\n",
       "      <td>1.0</td>\n",
       "      <td>113803</td>\n",
       "      <td>ABC</td>\n",
       "      <td>Mrs</td>\n",
       "      <td>2</td>\n",
       "    </tr>\n",
       "    <tr>\n",
       "      <th>4</th>\n",
       "      <td>35.0</td>\n",
       "      <td>S</td>\n",
       "      <td>8.0500</td>\n",
       "      <td>Allen, Mr. William Henry</td>\n",
       "      <td>0</td>\n",
       "      <td>5</td>\n",
       "      <td>3</td>\n",
       "      <td>male</td>\n",
       "      <td>0</td>\n",
       "      <td>0.0</td>\n",
       "      <td>373450</td>\n",
       "      <td>M</td>\n",
       "      <td>Mr</td>\n",
       "      <td>1</td>\n",
       "    </tr>\n",
       "  </tbody>\n",
       "</table>\n",
       "</div>"
      ],
      "text/plain": [
       "    Age Embarked     Fare                                               Name  \\\n",
       "0  22.0        S   7.2500                            Braund, Mr. Owen Harris   \n",
       "1  38.0        C  71.2833  Cumings, Mrs. John Bradley (Florence Briggs Th...   \n",
       "2  26.0        S   7.9250                             Heikkinen, Miss. Laina   \n",
       "3  35.0        S  53.1000       Futrelle, Mrs. Jacques Heath (Lily May Peel)   \n",
       "4  35.0        S   8.0500                           Allen, Mr. William Henry   \n",
       "\n",
       "   Parch  PassengerId  Pclass     Sex  SibSp  Survived            Ticket Deck  \\\n",
       "0      0            1       3    male      1       0.0         A/5 21171    M   \n",
       "1      0            2       1  female      1       1.0          PC 17599  ABC   \n",
       "2      0            3       3  female      0       1.0  STON/O2. 3101282    M   \n",
       "3      0            4       1  female      1       1.0            113803  ABC   \n",
       "4      0            5       3    male      0       0.0            373450    M   \n",
       "\n",
       "  Title  FamilySize  \n",
       "0    Mr           2  \n",
       "1   Mrs           2  \n",
       "2  Miss           1  \n",
       "3   Mrs           2  \n",
       "4    Mr           1  "
      ]
     },
     "execution_count": 34,
     "metadata": {},
     "output_type": "execute_result"
    }
   ],
   "source": [
    "alldata.head()"
   ]
  },
  {
   "cell_type": "code",
   "execution_count": 35,
   "metadata": {},
   "outputs": [],
   "source": [
    "alldata.loc[:,'IsAlone']=alldata.FamilySize==1\n",
    "alldata['IsAlone']=alldata['IsAlone']*1"
   ]
  },
  {
   "cell_type": "markdown",
   "execution_count": null,
   "metadata": {},
   "source": [
    "## 2.3. Family"
   ]
  },
  {
   "cell_type": "markdown",
   "execution_count": null,
   "metadata": {},
   "source": [
    "Inspired by [S.Xu's kernel](https://www.kaggle.com/shunjiangxu/blood-is-thicker-than-water-friendship-forever#Extracting-family-information)"
   ]
  },
  {
   "cell_type": "code",
   "execution_count": 36,
   "metadata": {},
   "outputs": [
    {
     "data": {
      "text/plain": [
       "Sage           11\n",
       "Andersson      11\n",
       "Asplund         8\n",
       "Goodwin         8\n",
       "Davies          7\n",
       "               ..\n",
       "Brocklebank     1\n",
       "Pulbaum         1\n",
       "Christmann      1\n",
       "McEvoy          1\n",
       "O'Driscoll      1\n",
       "Name: Surname, Length: 875, dtype: int64"
      ]
     },
     "execution_count": 36,
     "metadata": {},
     "output_type": "execute_result"
    }
   ],
   "source": [
    "alldata['Surname']=alldata.Name.apply(lambda x: str.split(x, \",\")[0])\n",
    "surnames=alldata.Surname.value_counts()\n",
    "surnames"
   ]
  },
  {
   "cell_type": "code",
   "execution_count": 37,
   "metadata": {},
   "outputs": [
    {
     "data": {
      "text/plain": [
       "1     637\n",
       "2     133\n",
       "3      63\n",
       "4      22\n",
       "6       9\n",
       "5       6\n",
       "11      2\n",
       "8       2\n",
       "7       1\n",
       "Name: Surname, dtype: int64"
      ]
     },
     "execution_count": 37,
     "metadata": {},
     "output_type": "execute_result"
    }
   ],
   "source": [
    "surnames.value_counts()"
   ]
  },
  {
   "cell_type": "markdown",
   "execution_count": null,
   "metadata": {},
   "source": [
    "When we dig into the data, we can observe that we have:\n",
    "* 637 passengers travelling alone\n",
    "* 133 families with size 2\n",
    "* 63 families with size 3\n",
    "* 22 families with size 4\n",
    "* 6 families with size 5\n",
    "* 9 families with size 6\n",
    "* 1 families with size 7\n",
    "* 2 families with size 8\n",
    "* 2 families with size 11"
   ]
  },
  {
   "cell_type": "markdown",
   "execution_count": null,
   "metadata": {},
   "source": [
    "Since different families might have the same surname, we need one more feature in order not to miss out on that probability. Lets check if tickets and fare has anything to do with surnames."
   ]
  },
  {
   "cell_type": "code",
   "execution_count": 38,
   "metadata": {},
   "outputs": [
    {
     "name": "stdout",
     "output_type": "stream",
     "text": [
      "Number of groups consists of 2 people, with the same ticket number: 132 \n",
      "Number of groups consists of 3 people, with the same ticket number: 49 \n",
      "Number of groups consists of 4 people, with the same ticket number: 16 \n",
      "Number of groups consists of 5 people, with the same ticket number: 7 \n",
      "Number of groups consists of 6 people, with the same ticket number: 4 \n",
      "Number of groups consists of 7 people, with the same ticket number: 5 \n",
      "Number of groups consists of 8 people, with the same ticket number: 2 \n",
      "Number of groups consists of 9 people, with the same ticket number: 0 \n",
      "Number of groups consists of 10 people, with the same ticket number: 0 \n",
      "Number of groups consists of 11 people, with the same ticket number: 1 \n"
     ]
    }
   ],
   "source": [
    "for i in range(2,12):\n",
    "    print( 'Number of groups consists of {} people, with the same ticket number: {} '.format( i, (alldata['Ticket'].value_counts()==i).sum()) )"
   ]
  },
  {
   "cell_type": "code",
   "execution_count": 39,
   "metadata": {},
   "outputs": [
    {
     "name": "stdout",
     "output_type": "stream",
     "text": [
      "Number of groups consists of 1 people, with the same fare: 77 \n",
      "Number of groups consists of 2 people, with the same fare: 74 \n",
      "Number of groups consists of 3 people, with the same fare: 43 \n",
      "Number of groups consists of 4 people, with the same fare: 23 \n",
      "Number of groups consists of 5 people, with the same fare: 11 \n",
      "Number of groups consists of 6 people, with the same fare: 11 \n",
      "Number of groups consists of 7 people, with the same fare: 10 \n",
      "Number of groups consists of 8 people, with the same fare: 4 \n",
      "Number of groups consists of 9 people, with the same fare: 3 \n",
      "Number of groups consists of 10 people, with the same fare: 4 \n",
      "Number of groups consists of 11 people, with the same fare: 3 \n",
      "Number of groups consists of 12 people, with the same fare: 2 \n",
      "Number of groups consists of 14 people, with the same fare: 1 \n",
      "Number of groups consists of 17 people, with the same fare: 1 \n",
      "Number of groups consists of 18 people, with the same fare: 1 \n",
      "Number of groups consists of 21 people, with the same fare: 3 \n",
      "Number of groups consists of 22 people, with the same fare: 1 \n",
      "Number of groups consists of 23 people, with the same fare: 1 \n",
      "Number of groups consists of 24 people, with the same fare: 1 \n",
      "Number of groups consists of 26 people, with the same fare: 1 \n",
      "Number of groups consists of 35 people, with the same fare: 1 \n",
      "Number of groups consists of 50 people, with the same fare: 2 \n",
      "Number of groups consists of 55 people, with the same fare: 1 \n",
      "Number of groups consists of 59 people, with the same fare: 1 \n",
      "Number of groups consists of 60 people, with the same fare: 1 \n"
     ]
    }
   ],
   "source": [
    "fare_counts=alldata['Fare'].value_counts().value_counts().reset_index().sort_values(by='index').rename(columns={'index':'consists_of'})\n",
    "for i in fare_counts['consists_of']:\n",
    "    print( 'Number of groups consists of {} people, with the same fare: {} '.format(i, fare_counts.loc[fare_counts.consists_of==i,'Fare'].values[0]) )\n"
   ]
  },
  {
   "cell_type": "markdown",
   "execution_count": null,
   "metadata": {},
   "source": [
    "Now we know that certain people have the same fare and/or ticket number. We also know it is correlated with surname feature. But above information is not enough for us to decide whether to use Ticket or Fare for grouping of families.  \n",
    "If we group the data by Surname and Familysize and check for number of unique values in Fare/Ticket column, we should see mostly 1's since every record with unique surname and family size should represent the family, according to our current assumption.   \n",
    "Feature with the least number of unique values per group will be chosen.    \n"
   ]
  },
  {
   "cell_type": "code",
   "execution_count": 40,
   "metadata": {},
   "outputs": [
    {
     "data": {
      "text/plain": [
       "1.6835016835016834"
      ]
     },
     "execution_count": 40,
     "metadata": {},
     "output_type": "execute_result"
    }
   ],
   "source": [
    "df_fare=alldata.loc[alldata['FamilySize']>1, [\"Surname\",\"Fare\", \"FamilySize\"]].iloc[:len(train)]\n",
    "(df_fare.sort_values(by='Surname', ascending=True).groupby(['Surname', 'FamilySize']).nunique().Fare!=1).sum()/len(train)*100"
   ]
  },
  {
   "cell_type": "code",
   "execution_count": 41,
   "metadata": {},
   "outputs": [
    {
     "data": {
      "text/plain": [
       "2.8058361391694726"
      ]
     },
     "execution_count": 41,
     "metadata": {},
     "output_type": "execute_result"
    }
   ],
   "source": [
    "df_ticket=alldata.loc[alldata['FamilySize']>1, [\"Surname\",\"Ticket\", \"FamilySize\"]].iloc[:len(train)]\n",
    "(df_ticket.sort_values(by='Surname', ascending=True).groupby(['Surname', 'FamilySize']).nunique().Ticket!=1).sum()/len(train)*100"
   ]
  },
  {
   "cell_type": "markdown",
   "execution_count": null,
   "metadata": {},
   "source": [
    "**Ticket:** 2.80% of records has a different ticket value between family members. This is expected, since currently we know this grouping of families is not %100 true because we do not take into account the families with the same surname.    \n",
    "**Fare:** 1.68% of records has a different fare value between family members.  \n",
    "We will chose Fare. "
   ]
  },
  {
   "cell_type": "markdown",
   "execution_count": null,
   "metadata": {},
   "source": [
    "From [S.Xu's kernel](https://www.kaggle.com/shunjiangxu/blood-is-thicker-than-water-friendship-forever#Extracting-family-information), we already know that majority of families are either all survived or all perished. This means, we can create a Family_Survival feature to predict survival of the passenger. We will pass it 1 if any one of the family members are survived, 0 otherwise."
   ]
  },
  {
   "cell_type": "code",
   "execution_count": 42,
   "metadata": {},
   "outputs": [
    {
     "name": "stdout",
     "output_type": "stream",
     "text": [
      "Number of passengers with family survival information: 420\n",
      "Number of passengers without family survival information: 889\n"
     ]
    }
   ],
   "source": [
    "alldata['Family_Survival']=0.5 #initial survival value. We gonna change this in a bit.\n",
    "for groupname, group_df in alldata.groupby(['Surname', 'Fare']):\n",
    "    if len(group_df)!=1: #we found ourselves a family!\n",
    "        for idx, row in group_df.iterrows():\n",
    "            smax=group_df.drop(idx).Survived.max()\n",
    "            smin=group_df.drop(idx).Survived.min()\n",
    "            passid=row['PassengerId']\n",
    "            if (smax == 1.0):\n",
    "                alldata.loc[alldata['PassengerId'] == passid, 'Family_Survival'] = 1\n",
    "            elif (smin==0.0):\n",
    "                alldata.loc[alldata['PassengerId'] == passid, 'Family_Survival'] = 0\n",
    "                \n",
    "print(\"Number of passengers with family survival information:\", \n",
    "      alldata.loc[alldata['Family_Survival']!=0.5].shape[0])\n",
    "print(\"Number of passengers without family survival information:\", \n",
    "      alldata.loc[alldata['Family_Survival']==0.5].shape[0])"
   ]
  },
  {
   "cell_type": "markdown",
   "execution_count": null,
   "metadata": {},
   "source": [
    "High number of passengers without family survival information is expectable since there are already 637 passengers travelling alone.\n",
    "Remember the Tickets feature that we dropped over Fare? Maybe that would help us identify the relationship among people without family survival information."
   ]
  },
  {
   "cell_type": "code",
   "execution_count": 43,
   "metadata": {},
   "outputs": [
    {
     "name": "stdout",
     "output_type": "stream",
     "text": [
      "Number of groups in training set that is not family: 44\n"
     ]
    }
   ],
   "source": [
    "ticket_grpby = alldata.iloc[:len(train)].groupby('Ticket')\n",
    "ticket_df = pd.DataFrame(data=ticket_grpby.size(), columns=['Size in train'])\n",
    "ticket_df['Survived total'] = ticket_grpby['Survived'].sum().astype(int)\n",
    "ticket_df['Not family'] = ticket_grpby['Surname'].nunique()\n",
    "ticket_df = ticket_df[(ticket_df['Size in train'] > 1) & (ticket_df['Not family']>1)]\n",
    "print('Number of groups in training set that is not family: '+ str(len(ticket_df)))\n"
   ]
  },
  {
   "cell_type": "code",
   "execution_count": 44,
   "metadata": {},
   "outputs": [
    {
     "name": "stdout",
     "output_type": "stream",
     "text": [
      "Number of passengers without group survival information: 763\n",
      "Number of passenger with family/group survival information: 546\n"
     ]
    }
   ],
   "source": [
    "for groupname, group_df in alldata.groupby('Ticket'):\n",
    "    if len(group_df)!=1: #we found ourselves a peer group!\n",
    "        for idx, row in group_df.iterrows():\n",
    "            if (row['Family_Survival']== 0.5):\n",
    "                smax=group_df.drop(idx).Survived.max()\n",
    "                smin=group_df.drop(idx).Survived.min()\n",
    "                passid=row['PassengerId']\n",
    "                if (smax == 1.0):\n",
    "                    alldata.loc[alldata['PassengerId'] == passid, 'Family_Survival'] = 1\n",
    "                elif (smin==0.0):\n",
    "                    alldata.loc[alldata['PassengerId'] == passid, 'Family_Survival'] = 0\n",
    "\n",
    "print(\"Number of passengers without group survival information:\", \n",
    "      alldata.loc[alldata['Family_Survival']==0.5].shape[0])\n",
    "print(\"Number of passenger with family/group survival information: \" \n",
    "      +str(alldata[alldata['Family_Survival']!=0.5].shape[0]))                "
   ]
  },
  {
   "cell_type": "markdown",
   "execution_count": null,
   "metadata": {},
   "source": [
    "Lets now do the same thing over Fare."
   ]
  },
  {
   "cell_type": "code",
   "execution_count": 45,
   "metadata": {},
   "outputs": [
    {
     "name": "stdout",
     "output_type": "stream",
     "text": [
      "Number of passengers without group survival information: 140\n",
      "Number of passenger with family/group survival information: 1169\n"
     ]
    }
   ],
   "source": [
    "for groupname, group_df in alldata.groupby('Fare'):\n",
    "    if len(group_df)!=1: #we found ourselves a peer group!\n",
    "        for idx, row in group_df.iterrows():\n",
    "            if (row['Family_Survival']== 0.5):\n",
    "                smax=group_df.drop(idx).Survived.max()\n",
    "                smin=group_df.drop(idx).Survived.min()\n",
    "                passid=row['PassengerId']\n",
    "                if (smax == 1.0):\n",
    "                    alldata.loc[alldata['PassengerId'] == passid, 'Family_Survival'] = 1\n",
    "                elif (smin==0.0):\n",
    "                    alldata.loc[alldata['PassengerId'] == passid, 'Family_Survival'] = 0\n",
    "\n",
    "print(\"Number of passengers without group survival information:\", \n",
    "      alldata.loc[alldata['Family_Survival']==0.5].shape[0])\n",
    "print(\"Number of passenger with family/group survival information: \" \n",
    "      +str(alldata[alldata['Family_Survival']!=0.5].shape[0]))                "
   ]
  },
  {
   "cell_type": "markdown",
   "execution_count": null,
   "metadata": {},
   "source": [
    "## 2.4. Binning Continuous Features"
   ]
  },
  {
   "cell_type": "markdown",
   "execution_count": null,
   "metadata": {},
   "source": [
    "Age and Fare are continuous features. Lets bin those.\n"
   ]
  },
  {
   "cell_type": "code",
   "execution_count": 46,
   "metadata": {},
   "outputs": [
    {
     "data": {
      "text/plain": [
       "(0.169, 17.0]    163\n",
       "(17.0, 21.0]     136\n",
       "(21.0, 24.0]     173\n",
       "(24.0, 25.0]     179\n",
       "(25.0, 28.0]      95\n",
       "(28.0, 32.0]     135\n",
       "(32.0, 39.0]     162\n",
       "(39.0, 47.0]     133\n",
       "(47.0, 80.0]     133\n",
       "Name: AgeBin, dtype: int64"
      ]
     },
     "execution_count": 46,
     "metadata": {},
     "output_type": "execute_result"
    }
   ],
   "source": [
    "alldata['AgeBin']=pd.qcut(alldata['Age'],9)\n",
    "alldata['AgeBin'].value_counts().sort_index()"
   ]
  },
  {
   "cell_type": "code",
   "execution_count": 47,
   "metadata": {},
   "outputs": [
    {
     "data": {
      "text/plain": [
       "(-0.001, 7.57]      131\n",
       "(7.57, 7.854]       144\n",
       "(7.854, 8.05]       147\n",
       "(8.05, 10.5]        108\n",
       "(10.5, 14.454]      128\n",
       "(14.454, 21.558]    127\n",
       "(21.558, 26.82]     131\n",
       "(26.82, 41.579]     134\n",
       "(41.579, 78.02]     128\n",
       "(78.02, 512.329]    131\n",
       "Name: FareBin, dtype: int64"
      ]
     },
     "execution_count": 47,
     "metadata": {},
     "output_type": "execute_result"
    }
   ],
   "source": [
    "alldata['FareBin']=pd.qcut(alldata['Fare'],10)\n",
    "alldata['FareBin'].value_counts().sort_index()"
   ]
  },
  {
   "cell_type": "code",
   "execution_count": 48,
   "metadata": {},
   "outputs": [],
   "source": [
    "alldata.drop(['Age', 'Fare'], axis=1, inplace=True)"
   ]
  },
  {
   "cell_type": "code",
   "execution_count": 49,
   "metadata": {},
   "outputs": [
    {
     "data": {
      "text/html": [
       "<div>\n",
       "<style scoped>\n",
       "    .dataframe tbody tr th:only-of-type {\n",
       "        vertical-align: middle;\n",
       "    }\n",
       "\n",
       "    .dataframe tbody tr th {\n",
       "        vertical-align: top;\n",
       "    }\n",
       "\n",
       "    .dataframe thead th {\n",
       "        text-align: right;\n",
       "    }\n",
       "</style>\n",
       "<table border=\"1\" class=\"dataframe\">\n",
       "  <thead>\n",
       "    <tr style=\"text-align: right;\">\n",
       "      <th></th>\n",
       "      <th>Embarked</th>\n",
       "      <th>Name</th>\n",
       "      <th>Parch</th>\n",
       "      <th>PassengerId</th>\n",
       "      <th>Pclass</th>\n",
       "      <th>Sex</th>\n",
       "      <th>SibSp</th>\n",
       "      <th>Survived</th>\n",
       "      <th>Ticket</th>\n",
       "      <th>Deck</th>\n",
       "      <th>Title</th>\n",
       "      <th>FamilySize</th>\n",
       "      <th>IsAlone</th>\n",
       "      <th>Surname</th>\n",
       "      <th>Family_Survival</th>\n",
       "      <th>AgeBin</th>\n",
       "      <th>FareBin</th>\n",
       "    </tr>\n",
       "  </thead>\n",
       "  <tbody>\n",
       "    <tr>\n",
       "      <th>0</th>\n",
       "      <td>S</td>\n",
       "      <td>Braund, Mr. Owen Harris</td>\n",
       "      <td>0</td>\n",
       "      <td>1</td>\n",
       "      <td>3</td>\n",
       "      <td>male</td>\n",
       "      <td>1</td>\n",
       "      <td>0.0</td>\n",
       "      <td>A/5 21171</td>\n",
       "      <td>M</td>\n",
       "      <td>Mr</td>\n",
       "      <td>2</td>\n",
       "      <td>0</td>\n",
       "      <td>Braund</td>\n",
       "      <td>1.0</td>\n",
       "      <td>(21.0, 24.0]</td>\n",
       "      <td>(-0.001, 7.57]</td>\n",
       "    </tr>\n",
       "    <tr>\n",
       "      <th>1</th>\n",
       "      <td>C</td>\n",
       "      <td>Cumings, Mrs. John Bradley (Florence Briggs Th...</td>\n",
       "      <td>0</td>\n",
       "      <td>2</td>\n",
       "      <td>1</td>\n",
       "      <td>female</td>\n",
       "      <td>1</td>\n",
       "      <td>1.0</td>\n",
       "      <td>PC 17599</td>\n",
       "      <td>ABC</td>\n",
       "      <td>Mrs</td>\n",
       "      <td>2</td>\n",
       "      <td>0</td>\n",
       "      <td>Cumings</td>\n",
       "      <td>0.5</td>\n",
       "      <td>(32.0, 39.0]</td>\n",
       "      <td>(41.579, 78.02]</td>\n",
       "    </tr>\n",
       "    <tr>\n",
       "      <th>2</th>\n",
       "      <td>S</td>\n",
       "      <td>Heikkinen, Miss. Laina</td>\n",
       "      <td>0</td>\n",
       "      <td>3</td>\n",
       "      <td>3</td>\n",
       "      <td>female</td>\n",
       "      <td>0</td>\n",
       "      <td>1.0</td>\n",
       "      <td>STON/O2. 3101282</td>\n",
       "      <td>M</td>\n",
       "      <td>Miss</td>\n",
       "      <td>1</td>\n",
       "      <td>1</td>\n",
       "      <td>Heikkinen</td>\n",
       "      <td>1.0</td>\n",
       "      <td>(25.0, 28.0]</td>\n",
       "      <td>(7.854, 8.05]</td>\n",
       "    </tr>\n",
       "    <tr>\n",
       "      <th>3</th>\n",
       "      <td>S</td>\n",
       "      <td>Futrelle, Mrs. Jacques Heath (Lily May Peel)</td>\n",
       "      <td>0</td>\n",
       "      <td>4</td>\n",
       "      <td>1</td>\n",
       "      <td>female</td>\n",
       "      <td>1</td>\n",
       "      <td>1.0</td>\n",
       "      <td>113803</td>\n",
       "      <td>ABC</td>\n",
       "      <td>Mrs</td>\n",
       "      <td>2</td>\n",
       "      <td>0</td>\n",
       "      <td>Futrelle</td>\n",
       "      <td>0.0</td>\n",
       "      <td>(32.0, 39.0]</td>\n",
       "      <td>(41.579, 78.02]</td>\n",
       "    </tr>\n",
       "    <tr>\n",
       "      <th>4</th>\n",
       "      <td>S</td>\n",
       "      <td>Allen, Mr. William Henry</td>\n",
       "      <td>0</td>\n",
       "      <td>5</td>\n",
       "      <td>3</td>\n",
       "      <td>male</td>\n",
       "      <td>0</td>\n",
       "      <td>0.0</td>\n",
       "      <td>373450</td>\n",
       "      <td>M</td>\n",
       "      <td>Mr</td>\n",
       "      <td>1</td>\n",
       "      <td>1</td>\n",
       "      <td>Allen</td>\n",
       "      <td>1.0</td>\n",
       "      <td>(32.0, 39.0]</td>\n",
       "      <td>(7.854, 8.05]</td>\n",
       "    </tr>\n",
       "  </tbody>\n",
       "</table>\n",
       "</div>"
      ],
      "text/plain": [
       "  Embarked                                               Name  Parch  \\\n",
       "0        S                            Braund, Mr. Owen Harris      0   \n",
       "1        C  Cumings, Mrs. John Bradley (Florence Briggs Th...      0   \n",
       "2        S                             Heikkinen, Miss. Laina      0   \n",
       "3        S       Futrelle, Mrs. Jacques Heath (Lily May Peel)      0   \n",
       "4        S                           Allen, Mr. William Henry      0   \n",
       "\n",
       "   PassengerId  Pclass     Sex  SibSp  Survived            Ticket Deck Title  \\\n",
       "0            1       3    male      1       0.0         A/5 21171    M    Mr   \n",
       "1            2       1  female      1       1.0          PC 17599  ABC   Mrs   \n",
       "2            3       3  female      0       1.0  STON/O2. 3101282    M  Miss   \n",
       "3            4       1  female      1       1.0            113803  ABC   Mrs   \n",
       "4            5       3    male      0       0.0            373450    M    Mr   \n",
       "\n",
       "   FamilySize  IsAlone    Surname  Family_Survival        AgeBin  \\\n",
       "0           2        0     Braund              1.0  (21.0, 24.0]   \n",
       "1           2        0    Cumings              0.5  (32.0, 39.0]   \n",
       "2           1        1  Heikkinen              1.0  (25.0, 28.0]   \n",
       "3           2        0   Futrelle              0.0  (32.0, 39.0]   \n",
       "4           1        1      Allen              1.0  (32.0, 39.0]   \n",
       "\n",
       "           FareBin  \n",
       "0   (-0.001, 7.57]  \n",
       "1  (41.579, 78.02]  \n",
       "2    (7.854, 8.05]  \n",
       "3  (41.579, 78.02]  \n",
       "4    (7.854, 8.05]  "
      ]
     },
     "execution_count": 49,
     "metadata": {},
     "output_type": "execute_result"
    }
   ],
   "source": [
    "alldata.head()"
   ]
  },
  {
   "cell_type": "markdown",
   "execution_count": null,
   "metadata": {},
   "source": [
    "### 2.5. Feature Formatting  \n",
    "We will convert categorical data to dummy variables for mathematical analysis. \n",
    "For ordinal data, we will just use LabelEncoder() and for nominal data we will use one hot encoding.  \n",
    "***LabelEncoder*** basically labels the classes from 0 to n. This process is necessary for models to learn from those features.  \n",
    "What ***one hot encoding*** does is, it takes a column which has categorical data, which has been label encoded, and then splits the column into multiple columns.  \n"
   ]
  },
  {
   "cell_type": "markdown",
   "execution_count": null,
   "metadata": {},
   "source": [
    "### 2.5.1. Label Encoding for Non-Numerical Features\n"
   ]
  },
  {
   "cell_type": "code",
   "execution_count": 50,
   "metadata": {},
   "outputs": [],
   "source": [
    "columns=['Embarked','Sex','Deck','Title','AgeBin','FareBin']\n",
    "for col in columns:\n",
    "    alldata[col] = LabelEncoder().fit_transform(alldata[col])"
   ]
  },
  {
   "cell_type": "markdown",
   "execution_count": null,
   "metadata": {},
   "source": [
    "### 2.5.2. One Hot Encoding for Nominal Data"
   ]
  },
  {
   "cell_type": "markdown",
   "execution_count": null,
   "metadata": {},
   "source": [
    "AgeBin, FareBin and pclass categorical features are not converted because they are ordinal unlike the others. Also Sex did not converted because it is already binary."
   ]
  },
  {
   "cell_type": "code",
   "execution_count": 51,
   "metadata": {},
   "outputs": [],
   "source": [
    "def encode_and_bind(original_df, feature_to_encode):\n",
    "    dummies = pd.get_dummies(original_df[feature_to_encode], prefix=feature_to_encode)\n",
    "    res = pd.concat([original_df, dummies], axis=1)\n",
    "    res=res.drop(feature_to_encode, axis=1)\n",
    "    return(res)  \n",
    "\n"
   ]
  },
  {
   "cell_type": "code",
   "execution_count": 52,
   "metadata": {},
   "outputs": [],
   "source": [
    "columns=['Embarked','Deck','Title']\n",
    "for col in columns:\n",
    "    alldata=encode_and_bind(alldata, col)  "
   ]
  },
  {
   "cell_type": "code",
   "execution_count": 53,
   "metadata": {},
   "outputs": [],
   "source": [
    "drop_cols = ['Name', 'Parch', 'PassengerId','SibSp', 'Ticket', 'Surname']\n",
    "alldata=alldata.drop(drop_cols, axis=1)"
   ]
  },
  {
   "cell_type": "code",
   "execution_count": 54,
   "metadata": {},
   "outputs": [
    {
     "data": {
      "text/html": [
       "<div>\n",
       "<style scoped>\n",
       "    .dataframe tbody tr th:only-of-type {\n",
       "        vertical-align: middle;\n",
       "    }\n",
       "\n",
       "    .dataframe tbody tr th {\n",
       "        vertical-align: top;\n",
       "    }\n",
       "\n",
       "    .dataframe thead th {\n",
       "        text-align: right;\n",
       "    }\n",
       "</style>\n",
       "<table border=\"1\" class=\"dataframe\">\n",
       "  <thead>\n",
       "    <tr style=\"text-align: right;\">\n",
       "      <th></th>\n",
       "      <th>Pclass</th>\n",
       "      <th>Sex</th>\n",
       "      <th>Survived</th>\n",
       "      <th>FamilySize</th>\n",
       "      <th>IsAlone</th>\n",
       "      <th>Family_Survival</th>\n",
       "      <th>AgeBin</th>\n",
       "      <th>FareBin</th>\n",
       "      <th>Embarked_0</th>\n",
       "      <th>Embarked_1</th>\n",
       "      <th>Embarked_2</th>\n",
       "      <th>Deck_0</th>\n",
       "      <th>Deck_1</th>\n",
       "      <th>Deck_2</th>\n",
       "      <th>Deck_3</th>\n",
       "      <th>Title_0</th>\n",
       "      <th>Title_1</th>\n",
       "      <th>Title_2</th>\n",
       "      <th>Title_3</th>\n",
       "      <th>Title_4</th>\n",
       "    </tr>\n",
       "  </thead>\n",
       "  <tbody>\n",
       "    <tr>\n",
       "      <th>0</th>\n",
       "      <td>3</td>\n",
       "      <td>1</td>\n",
       "      <td>0.0</td>\n",
       "      <td>2</td>\n",
       "      <td>0</td>\n",
       "      <td>1.0</td>\n",
       "      <td>2</td>\n",
       "      <td>0</td>\n",
       "      <td>0</td>\n",
       "      <td>0</td>\n",
       "      <td>1</td>\n",
       "      <td>0</td>\n",
       "      <td>0</td>\n",
       "      <td>0</td>\n",
       "      <td>1</td>\n",
       "      <td>0</td>\n",
       "      <td>0</td>\n",
       "      <td>1</td>\n",
       "      <td>0</td>\n",
       "      <td>0</td>\n",
       "    </tr>\n",
       "    <tr>\n",
       "      <th>1</th>\n",
       "      <td>1</td>\n",
       "      <td>0</td>\n",
       "      <td>1.0</td>\n",
       "      <td>2</td>\n",
       "      <td>0</td>\n",
       "      <td>0.5</td>\n",
       "      <td>6</td>\n",
       "      <td>8</td>\n",
       "      <td>1</td>\n",
       "      <td>0</td>\n",
       "      <td>0</td>\n",
       "      <td>1</td>\n",
       "      <td>0</td>\n",
       "      <td>0</td>\n",
       "      <td>0</td>\n",
       "      <td>0</td>\n",
       "      <td>0</td>\n",
       "      <td>0</td>\n",
       "      <td>1</td>\n",
       "      <td>0</td>\n",
       "    </tr>\n",
       "    <tr>\n",
       "      <th>2</th>\n",
       "      <td>3</td>\n",
       "      <td>0</td>\n",
       "      <td>1.0</td>\n",
       "      <td>1</td>\n",
       "      <td>1</td>\n",
       "      <td>1.0</td>\n",
       "      <td>4</td>\n",
       "      <td>2</td>\n",
       "      <td>0</td>\n",
       "      <td>0</td>\n",
       "      <td>1</td>\n",
       "      <td>0</td>\n",
       "      <td>0</td>\n",
       "      <td>0</td>\n",
       "      <td>1</td>\n",
       "      <td>0</td>\n",
       "      <td>1</td>\n",
       "      <td>0</td>\n",
       "      <td>0</td>\n",
       "      <td>0</td>\n",
       "    </tr>\n",
       "    <tr>\n",
       "      <th>3</th>\n",
       "      <td>1</td>\n",
       "      <td>0</td>\n",
       "      <td>1.0</td>\n",
       "      <td>2</td>\n",
       "      <td>0</td>\n",
       "      <td>0.0</td>\n",
       "      <td>6</td>\n",
       "      <td>8</td>\n",
       "      <td>0</td>\n",
       "      <td>0</td>\n",
       "      <td>1</td>\n",
       "      <td>1</td>\n",
       "      <td>0</td>\n",
       "      <td>0</td>\n",
       "      <td>0</td>\n",
       "      <td>0</td>\n",
       "      <td>0</td>\n",
       "      <td>0</td>\n",
       "      <td>1</td>\n",
       "      <td>0</td>\n",
       "    </tr>\n",
       "    <tr>\n",
       "      <th>4</th>\n",
       "      <td>3</td>\n",
       "      <td>1</td>\n",
       "      <td>0.0</td>\n",
       "      <td>1</td>\n",
       "      <td>1</td>\n",
       "      <td>1.0</td>\n",
       "      <td>6</td>\n",
       "      <td>2</td>\n",
       "      <td>0</td>\n",
       "      <td>0</td>\n",
       "      <td>1</td>\n",
       "      <td>0</td>\n",
       "      <td>0</td>\n",
       "      <td>0</td>\n",
       "      <td>1</td>\n",
       "      <td>0</td>\n",
       "      <td>0</td>\n",
       "      <td>1</td>\n",
       "      <td>0</td>\n",
       "      <td>0</td>\n",
       "    </tr>\n",
       "  </tbody>\n",
       "</table>\n",
       "</div>"
      ],
      "text/plain": [
       "   Pclass  Sex  Survived  FamilySize  IsAlone  Family_Survival  AgeBin  \\\n",
       "0       3    1       0.0           2        0              1.0       2   \n",
       "1       1    0       1.0           2        0              0.5       6   \n",
       "2       3    0       1.0           1        1              1.0       4   \n",
       "3       1    0       1.0           2        0              0.0       6   \n",
       "4       3    1       0.0           1        1              1.0       6   \n",
       "\n",
       "   FareBin  Embarked_0  Embarked_1  Embarked_2  Deck_0  Deck_1  Deck_2  \\\n",
       "0        0           0           0           1       0       0       0   \n",
       "1        8           1           0           0       1       0       0   \n",
       "2        2           0           0           1       0       0       0   \n",
       "3        8           0           0           1       1       0       0   \n",
       "4        2           0           0           1       0       0       0   \n",
       "\n",
       "   Deck_3  Title_0  Title_1  Title_2  Title_3  Title_4  \n",
       "0       1        0        0        1        0        0  \n",
       "1       0        0        0        0        1        0  \n",
       "2       1        0        1        0        0        0  \n",
       "3       0        0        0        0        1        0  \n",
       "4       1        0        0        1        0        0  "
      ]
     },
     "execution_count": 54,
     "metadata": {},
     "output_type": "execute_result"
    }
   ],
   "source": [
    "alldata.head()"
   ]
  },
  {
   "cell_type": "code",
   "execution_count": 55,
   "metadata": {},
   "outputs": [],
   "source": [
    "#update train and test sets\n",
    "train=alldata.iloc[:891]\n",
    "test=alldata.iloc[891:].drop('Survived',axis=1)"
   ]
  },
  {
   "cell_type": "code",
   "execution_count": 56,
   "metadata": {},
   "outputs": [
    {
     "data": {
      "text/plain": [
       "<matplotlib.axes._subplots.AxesSubplot at 0x7f1ff44e5450>"
      ]
     },
     "execution_count": 56,
     "metadata": {},
     "output_type": "execute_result"
    },
    {
     "data": {
      "image/png": "[encoded data removed]",
      "text/plain": [
       "<Figure size 1008x1008 with 4 Axes>"
      ]
     },
     "metadata": {
      "needs_background": "light"
     },
     "output_type": "display_data"
    }
   ],
   "source": [
    "fig, axs=plt.subplots(2,1, figsize=(14,14))\n",
    "sns.heatmap(train.corr(), ax=axs[0], annot=True, cbar_kws={'label': 'Correlation coeff.'}, cmap=\"PuOr\")\n",
    "sns.heatmap(test.corr(),  ax=axs[1], annot=True, cbar_kws={'label': 'Correlation coeff.'}, cmap=\"PuOr\")"
   ]
  },
  {
   "cell_type": "markdown",
   "execution_count": null,
   "metadata": {},
   "source": [
    "# **3. MODELLING**"
   ]
  },
  {
   "cell_type": "markdown",
   "execution_count": null,
   "metadata": {},
   "source": [
    "Here i will only focus on **Logistic Regression** but of course you need to try others MLAs too, to see which one works the best."
   ]
  },
  {
   "cell_type": "markdown",
   "execution_count": null,
   "metadata": {},
   "source": [
    "1. Split the data: **train_test_split, cross validation**"
   ]
  },
  {
   "cell_type": "code",
   "execution_count": 57,
   "metadata": {},
   "outputs": [],
   "source": [
    "#training data\n",
    "X = train.drop(['Survived'], axis=1)\n",
    "stdscale=StandardScaler()\n",
    "X_scaled = stdscale.fit_transform(X)\n",
    "y = train.Survived.copy()"
   ]
  },
  {
   "cell_type": "code",
   "execution_count": 58,
   "metadata": {},
   "outputs": [
    {
     "name": "stdout",
     "output_type": "stream",
     "text": [
      "The accuracy of the Logistic Regression is: 0.8699551569506726\n"
     ]
    }
   ],
   "source": [
    "#split\n",
    "X_train, X_test, y_train, y_test = train_test_split(X_scaled, y, test_size=0.25, random_state=5) #%25 of the data used for test set\n",
    "\n",
    "#fitting the model\n",
    "model = LogisticRegression(max_iter = 500000)\n",
    "model.fit(X_train, y_train)\n",
    "y_pred = model.predict(X_test)\n",
    "accuracy = model.score(X_test, y_test) #test labels, true response values\n",
    "print('The accuracy of the Logistic Regression is:',accuracy)"
   ]
  },
  {
   "cell_type": "code",
   "execution_count": 59,
   "metadata": {},
   "outputs": [
    {
     "data": {
      "text/plain": [
       "array([[128,  12],\n",
       "       [ 17,  66]])"
      ]
     },
     "execution_count": 59,
     "metadata": {},
     "output_type": "execute_result"
    }
   ],
   "source": [
    "confusion_matrix(y_test,y_pred) #true response value, predicted response"
   ]
  },
  {
   "cell_type": "code",
   "execution_count": 60,
   "metadata": {},
   "outputs": [
    {
     "data": {
      "text/plain": [
       "0.8699551569506726"
      ]
     },
     "execution_count": 60,
     "metadata": {},
     "output_type": "execute_result"
    }
   ],
   "source": [
    "# another way to find the model score: accuracy_score\n",
    "# Accuracy: how often the model is correct. (TP + TN)/total\n",
    "\n",
    "from sklearn.metrics import accuracy_score\n",
    "accuracy_score(y_test, y_pred)"
   ]
  },
  {
   "cell_type": "code",
   "execution_count": 61,
   "metadata": {},
   "outputs": [
    {
     "data": {
      "text/plain": [
       "0.8461538461538461"
      ]
     },
     "execution_count": 61,
     "metadata": {},
     "output_type": "execute_result"
    }
   ],
   "source": [
    "#precision, positive predictive value ppv: how often model correctly predicts positive outcome.= TP/(TP+FP)\n",
    "from sklearn.metrics import precision_score\n",
    "precision_score(y_test, y_pred)"
   ]
  },
  {
   "cell_type": "markdown",
   "execution_count": null,
   "metadata": {},
   "source": [
    "* Another way to split data: **Cross Validation**  \n",
    "As the training and testing data changes, the accuracy will also change. It may increase or decrease. This is known as model variance.    \n",
    "To overcome this and get a generalized model,we use *Cross Validation.*  \n",
    "* We can use **KFold**, StratifiedShuffleSplit, StratiriedKFold or ShuffleSplit for cross validation."
   ]
  },
  {
   "cell_type": "code",
   "execution_count": 62,
   "metadata": {},
   "outputs": [
    {
     "data": {
      "text/plain": [
       "0.8451560549313358"
      ]
     },
     "execution_count": 62,
     "metadata": {},
     "output_type": "execute_result"
    }
   ],
   "source": [
    "from sklearn.model_selection import KFold, StratifiedKFold #for K-fold cross validation\n",
    "from sklearn.model_selection import cross_val_score #score evaluation: CROSS VALIDATION\n",
    "from sklearn.model_selection import cross_val_predict #prediction\n",
    "\n",
    "#Kfold\n",
    "kfold = KFold(n_splits=10) # k=10, split the data into 10 equal parts\n",
    "cv_result = cross_val_score(model, X_scaled, y, cv = kfold, scoring = \"accuracy\")\n",
    "cv_result.mean() # mean accuracy of kfold"
   ]
  },
  {
   "cell_type": "markdown",
   "execution_count": null,
   "metadata": {},
   "source": [
    "**Stratification** is the process of rearranging the data as to ensure each fold is a good representative of the whole. For example in a binary classification problem where each class comprises 50% of the data, it is best to arrange the data such that in every fold, each class comprises around half the instances."
   ]
  },
  {
   "cell_type": "code",
   "execution_count": 63,
   "metadata": {},
   "outputs": [
    {
     "name": "stdout",
     "output_type": "stream",
     "text": [
      "[0.8111111111111111, 0.8539325842696629, 0.7752808988764045, 0.898876404494382, 0.8651685393258427, 0.8202247191011236, 0.8202247191011236, 0.8426966292134831, 0.8539325842696629, 0.898876404494382]\n"
     ]
    }
   ],
   "source": [
    "#Stratified Kfold\n",
    "stkfold=StratifiedKFold(n_splits=10)\n",
    "#you can use cross_val_score as well to find scores. this is just for variety.\n",
    "accuracy=[]\n",
    "for train_index, test_index in stkfold.split(X_scaled, y):\n",
    "    x1_train, x1_test= X.iloc[train_index], X.iloc[test_index]\n",
    "    y1_train, y1_test= y.iloc[train_index], y.iloc[test_index]\n",
    "    model.fit(x1_train, y1_train)\n",
    "    prediction=model.predict(x1_test)\n",
    "    score=accuracy_score(prediction, y1_test)\n",
    "    accuracy.append(score)\n",
    "\n",
    "print(accuracy)"
   ]
  },
  {
   "cell_type": "code",
   "execution_count": 64,
   "metadata": {},
   "outputs": [
    {
     "data": {
      "text/plain": [
       "0.8440324594257179"
      ]
     },
     "execution_count": 64,
     "metadata": {},
     "output_type": "execute_result"
    }
   ],
   "source": [
    "# mean accuracy of stratified kfold\n",
    "np.mean(accuracy)"
   ]
  },
  {
   "cell_type": "markdown",
   "execution_count": null,
   "metadata": {},
   "source": [
    "2. Evaluate the classification model: **Confusion Matrix**, **AUC and ROC curves**"
   ]
  },
  {
   "cell_type": "code",
   "execution_count": 65,
   "metadata": {},
   "outputs": [
    {
     "data": {
      "text/plain": [
       "Text(0.5, 15.0, 'Predicted Value')"
      ]
     },
     "execution_count": 65,
     "metadata": {},
     "output_type": "execute_result"
    },
    {
     "data": {
      "image/png": "[encoded data removed]",
      "text/plain": [
       "<Figure size 432x288 with 2 Axes>"
      ]
     },
     "metadata": {
      "needs_background": "light"
     },
     "output_type": "display_data"
    }
   ],
   "source": [
    "from sklearn.metrics import confusion_matrix #for confusion matrix\n",
    "\n",
    "fig=plt.subplot()\n",
    "ax=plt.gca()\n",
    "y_pred = cross_val_predict(model,X_scaled,y,cv=kfold)\n",
    "sns.heatmap(confusion_matrix(y,y_pred),annot=True,fmt='2.0f')\n",
    "ax.set_title('Matrix for Logistic Regression')\n",
    "ax.set_ylabel('Actual Value')\n",
    "ax.set_xlabel('Predicted Value')"
   ]
  },
  {
   "cell_type": "markdown",
   "execution_count": null,
   "metadata": {},
   "source": [
    "number of correct predictions are 496(for dead) + 257(for survived) with the mean CV accuracy being (496+257)/891 = 84.51% which we did get earlier."
   ]
  },
  {
   "cell_type": "markdown",
   "execution_count": null,
   "metadata": {},
   "source": [
    "**Making submission:**"
   ]
  },
  {
   "cell_type": "code",
   "execution_count": 66,
   "metadata": {},
   "outputs": [],
   "source": [
    "#fitting the model with scaled features\n",
    "std_scaler = StandardScaler()\n",
    "X_scaled = std_scaler.fit_transform(X) #train features\n",
    "y_train=y #train response\n",
    "X_test = std_scaler.transform(test) #test features\n",
    "\n",
    "model.fit(X_scaled, y_train)\n",
    "y_pred=model.predict(X_test) #predicted test response\n"
   ]
  },
  {
   "cell_type": "code",
   "execution_count": 67,
   "metadata": {},
   "outputs": [
    {
     "data": {
      "text/html": [
       "<div>\n",
       "<style scoped>\n",
       "    .dataframe tbody tr th:only-of-type {\n",
       "        vertical-align: middle;\n",
       "    }\n",
       "\n",
       "    .dataframe tbody tr th {\n",
       "        vertical-align: top;\n",
       "    }\n",
       "\n",
       "    .dataframe thead th {\n",
       "        text-align: right;\n",
       "    }\n",
       "</style>\n",
       "<table border=\"1\" class=\"dataframe\">\n",
       "  <thead>\n",
       "    <tr style=\"text-align: right;\">\n",
       "      <th></th>\n",
       "      <th>PassengerId</th>\n",
       "      <th>Survived</th>\n",
       "    </tr>\n",
       "  </thead>\n",
       "  <tbody>\n",
       "    <tr>\n",
       "      <th>0</th>\n",
       "      <td>892</td>\n",
       "      <td>0</td>\n",
       "    </tr>\n",
       "    <tr>\n",
       "      <th>1</th>\n",
       "      <td>893</td>\n",
       "      <td>1</td>\n",
       "    </tr>\n",
       "    <tr>\n",
       "      <th>2</th>\n",
       "      <td>894</td>\n",
       "      <td>0</td>\n",
       "    </tr>\n",
       "    <tr>\n",
       "      <th>3</th>\n",
       "      <td>895</td>\n",
       "      <td>0</td>\n",
       "    </tr>\n",
       "    <tr>\n",
       "      <th>4</th>\n",
       "      <td>896</td>\n",
       "      <td>1</td>\n",
       "    </tr>\n",
       "    <tr>\n",
       "      <th>...</th>\n",
       "      <td>...</td>\n",
       "      <td>...</td>\n",
       "    </tr>\n",
       "    <tr>\n",
       "      <th>413</th>\n",
       "      <td>1305</td>\n",
       "      <td>0</td>\n",
       "    </tr>\n",
       "    <tr>\n",
       "      <th>414</th>\n",
       "      <td>1306</td>\n",
       "      <td>1</td>\n",
       "    </tr>\n",
       "    <tr>\n",
       "      <th>415</th>\n",
       "      <td>1307</td>\n",
       "      <td>0</td>\n",
       "    </tr>\n",
       "    <tr>\n",
       "      <th>416</th>\n",
       "      <td>1308</td>\n",
       "      <td>0</td>\n",
       "    </tr>\n",
       "    <tr>\n",
       "      <th>417</th>\n",
       "      <td>1309</td>\n",
       "      <td>1</td>\n",
       "    </tr>\n",
       "  </tbody>\n",
       "</table>\n",
       "<p>418 rows × 2 columns</p>\n",
       "</div>"
      ],
      "text/plain": [
       "     PassengerId  Survived\n",
       "0            892         0\n",
       "1            893         1\n",
       "2            894         0\n",
       "3            895         0\n",
       "4            896         1\n",
       "..           ...       ...\n",
       "413         1305         0\n",
       "414         1306         1\n",
       "415         1307         0\n",
       "416         1308         0\n",
       "417         1309         1\n",
       "\n",
       "[418 rows x 2 columns]"
      ]
     },
     "execution_count": 67,
     "metadata": {},
     "output_type": "execute_result"
    }
   ],
   "source": [
    "subm = pd.DataFrame(pd.read_csv(\"/kaggle/input/titanic/test.csv\")['PassengerId'])\n",
    "subm['Survived'] = y_pred\n",
    "subm.Survived=subm.Survived.astype('int')\n",
    "subm"
   ]
  },
  {
   "cell_type": "code",
   "execution_count": 68,
   "metadata": {},
   "outputs": [],
   "source": [
    "subm.to_csv(\"/kaggle/working/submission.csv\", index = False)"
   ]
  }
 ],
 "metadata": {
  "kernelspec": {
   "display_name": "Python 3",
   "language": "python",
   "name": "python3"
  },
  "language_info": {
   "codemirror_mode": {
    "name": "ipython",
    "version": 3
   },
   "file_extension": ".py",
   "mimetype": "text/x-python",
   "name": "python",
   "nbconvert_exporter": "python",
   "pygments_lexer": "ipython3",
   "version": "3.7.6"
  }
 },
 "nbformat": 4,
 "nbformat_minor": 4
}
